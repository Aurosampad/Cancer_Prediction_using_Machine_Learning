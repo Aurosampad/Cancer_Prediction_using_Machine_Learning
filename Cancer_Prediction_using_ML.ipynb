{
  "nbformat": 4,
  "nbformat_minor": 0,
  "metadata": {
    "colab": {
      "provenance": [],
      "gpuType": "T4",
      "authorship_tag": "ABX9TyMvtzofHH1Z89cGcoUnoBWP",
      "include_colab_link": true
    },
    "kernelspec": {
      "name": "python3",
      "display_name": "Python 3"
    },
    "language_info": {
      "name": "python"
    },
    "accelerator": "GPU"
  },
  "cells": [
    {
      "cell_type": "markdown",
      "metadata": {
        "id": "view-in-github",
        "colab_type": "text"
      },
      "source": [
        "<a href=\"https://colab.research.google.com/github/Aurosampad/Cancer_Prediction_using_Machine_Learning/blob/main/Cancer_Prediction_using_ML.ipynb\" target=\"_parent\"><img src=\"https://colab.research.google.com/assets/colab-badge.svg\" alt=\"Open In Colab\"/></a>"
      ]
    },
    {
      "cell_type": "code",
      "execution_count": null,
      "metadata": {
        "id": "3ueNYWzjFiRC"
      },
      "outputs": [],
      "source": [
        "import pandas as pd\n",
        "import numpy as np"
      ]
    },
    {
      "cell_type": "code",
      "source": [
        "from sklearn.metrics import accuracy_score,precision_score,recall_score,f1_score"
      ],
      "metadata": {
        "id": "EUsSFZq2uul_"
      },
      "execution_count": null,
      "outputs": []
    },
    {
      "cell_type": "code",
      "source": [
        "file_path=\"/content/covid-liver.csv\""
      ],
      "metadata": {
        "id": "hiYGMiz0Gfyj"
      },
      "execution_count": null,
      "outputs": []
    },
    {
      "cell_type": "code",
      "source": [
        "df = pd.read_csv(file_path, encoding='ISO-8859-1')"
      ],
      "metadata": {
        "id": "08NHv_2yHV6T"
      },
      "execution_count": null,
      "outputs": []
    },
    {
      "cell_type": "code",
      "source": [
        "df"
      ],
      "metadata": {
        "colab": {
          "base_uri": "https://localhost:8080/",
          "height": 487
        },
        "id": "ArFo4QjSHjfT",
        "outputId": "6647008d-ae66-4996-97a0-dc5ab339093e"
      },
      "execution_count": null,
      "outputs": [
        {
          "output_type": "execute_result",
          "data": {
            "text/plain": [
              "    Cancer         Year  Month Bleed Mode_Presentation  Age Gender Etiology  \\\n",
              "0        Y  Prepandemic      1     N      Surveillance   68      M    NAFLD   \n",
              "1        Y  Prepandemic      1     N      Surveillance   70      M     ARLD   \n",
              "2        Y  Prepandemic      1     N      Surveillance   64      M     ARLD   \n",
              "3        Y  Prepandemic      1     N        Incidental   73      M     ARLD   \n",
              "4        Y  Prepandemic      1     N        Incidental   66      F     ARLD   \n",
              "..     ...          ...    ...   ...               ...  ...    ...      ...   \n",
              "445      N     Pandemic     12   NaN       Symptomatic   72      F      NaN   \n",
              "446      N     Pandemic     12   NaN       Symptomatic   63      M      NaN   \n",
              "447      N     Pandemic     12   NaN       Symptomatic   79      F      NaN   \n",
              "448      N     Pandemic     12   NaN       Symptomatic   84      F      NaN   \n",
              "449      N     Pandemic     12   NaN        Incidental   80      F      NaN   \n",
              "\n",
              "    Cirrhosis  Size  ... Surveillance_programme Surveillance_effectiveness  \\\n",
              "0           Y  22.0  ...                      Y                 Consistent   \n",
              "1           Y  40.0  ...                      Y                 Consistent   \n",
              "2           Y  52.0  ...                      Y                 Consistent   \n",
              "3           Y  80.0  ...                      N                        NaN   \n",
              "4           Y  60.0  ...                      N                        NaN   \n",
              "..        ...   ...  ...                    ...                        ...   \n",
              "445       NaN   NaN  ...                    NaN                        NaN   \n",
              "446       NaN  75.0  ...                    NaN                        NaN   \n",
              "447       NaN  63.0  ...                    NaN                        NaN   \n",
              "448       NaN  65.0  ...                    NaN                        NaN   \n",
              "449       NaN  45.0  ...                    NaN                        NaN   \n",
              "\n",
              "    Mode_of_surveillance_detection Time_diagnosis_1st_Tx  \\\n",
              "0                               US                  0.47   \n",
              "1                               US                   NaN   \n",
              "2                               US                   NaN   \n",
              "3                              NaN                   NaN   \n",
              "4                              NaN                   NaN   \n",
              "..                             ...                   ...   \n",
              "445                            NaN                   NaN   \n",
              "446                            NaN                  2.93   \n",
              "447                            NaN                   NaN   \n",
              "448                            NaN                   NaN   \n",
              "449                            NaN                  0.00   \n",
              "\n",
              "     Date_incident_surveillance_scan   PS Time_MDM_1st_treatment  \\\n",
              "0                                NaN  0.0                   0.70   \n",
              "1                                NaN  2.0                    NaN   \n",
              "2                                NaN  0.0                    NaN   \n",
              "3                                NaN  2.0                    NaN   \n",
              "4                                NaN  0.0                    NaN   \n",
              "..                               ...  ...                    ...   \n",
              "445                              NaN  1.0                    NaN   \n",
              "446                              NaN  0.0                   1.63   \n",
              "447                              NaN  1.0                    NaN   \n",
              "448                              NaN  2.0                    NaN   \n",
              "449                              NaN  2.0                    NaN   \n",
              "\n",
              "    Time_decisiontotreat_1st_treatment Prev_known_cirrhosis  \\\n",
              "0                                  NaN                    Y   \n",
              "1                                  NaN                    Y   \n",
              "2                                  NaN                    Y   \n",
              "3                                  NaN                    Y   \n",
              "4                                  NaN                    Y   \n",
              "..                                 ...                  ...   \n",
              "445                                NaN                    Y   \n",
              "446                               1.63                    Y   \n",
              "447                                NaN                    Y   \n",
              "448                                NaN                    Y   \n",
              "449                                NaN                    Y   \n",
              "\n",
              "    Months_from_last_surveillance  \n",
              "0                        7.333333  \n",
              "1                        4.033333  \n",
              "2                        5.900000  \n",
              "3                             NaN  \n",
              "4                             NaN  \n",
              "..                            ...  \n",
              "445                           NaN  \n",
              "446                           NaN  \n",
              "447                           NaN  \n",
              "448                           NaN  \n",
              "449                           NaN  \n",
              "\n",
              "[450 rows x 27 columns]"
            ],
            "text/html": [
              "\n",
              "\n",
              "  <div id=\"df-63252980-854d-4109-80ea-4936b3488ad1\">\n",
              "    <div class=\"colab-df-container\">\n",
              "      <div>\n",
              "<style scoped>\n",
              "    .dataframe tbody tr th:only-of-type {\n",
              "        vertical-align: middle;\n",
              "    }\n",
              "\n",
              "    .dataframe tbody tr th {\n",
              "        vertical-align: top;\n",
              "    }\n",
              "\n",
              "    .dataframe thead th {\n",
              "        text-align: right;\n",
              "    }\n",
              "</style>\n",
              "<table border=\"1\" class=\"dataframe\">\n",
              "  <thead>\n",
              "    <tr style=\"text-align: right;\">\n",
              "      <th></th>\n",
              "      <th>Cancer</th>\n",
              "      <th>Year</th>\n",
              "      <th>Month</th>\n",
              "      <th>Bleed</th>\n",
              "      <th>Mode_Presentation</th>\n",
              "      <th>Age</th>\n",
              "      <th>Gender</th>\n",
              "      <th>Etiology</th>\n",
              "      <th>Cirrhosis</th>\n",
              "      <th>Size</th>\n",
              "      <th>...</th>\n",
              "      <th>Surveillance_programme</th>\n",
              "      <th>Surveillance_effectiveness</th>\n",
              "      <th>Mode_of_surveillance_detection</th>\n",
              "      <th>Time_diagnosis_1st_Tx</th>\n",
              "      <th>Date_incident_surveillance_scan</th>\n",
              "      <th>PS</th>\n",
              "      <th>Time_MDM_1st_treatment</th>\n",
              "      <th>Time_decisiontotreat_1st_treatment</th>\n",
              "      <th>Prev_known_cirrhosis</th>\n",
              "      <th>Months_from_last_surveillance</th>\n",
              "    </tr>\n",
              "  </thead>\n",
              "  <tbody>\n",
              "    <tr>\n",
              "      <th>0</th>\n",
              "      <td>Y</td>\n",
              "      <td>Prepandemic</td>\n",
              "      <td>1</td>\n",
              "      <td>N</td>\n",
              "      <td>Surveillance</td>\n",
              "      <td>68</td>\n",
              "      <td>M</td>\n",
              "      <td>NAFLD</td>\n",
              "      <td>Y</td>\n",
              "      <td>22.0</td>\n",
              "      <td>...</td>\n",
              "      <td>Y</td>\n",
              "      <td>Consistent</td>\n",
              "      <td>US</td>\n",
              "      <td>0.47</td>\n",
              "      <td>NaN</td>\n",
              "      <td>0.0</td>\n",
              "      <td>0.70</td>\n",
              "      <td>NaN</td>\n",
              "      <td>Y</td>\n",
              "      <td>7.333333</td>\n",
              "    </tr>\n",
              "    <tr>\n",
              "      <th>1</th>\n",
              "      <td>Y</td>\n",
              "      <td>Prepandemic</td>\n",
              "      <td>1</td>\n",
              "      <td>N</td>\n",
              "      <td>Surveillance</td>\n",
              "      <td>70</td>\n",
              "      <td>M</td>\n",
              "      <td>ARLD</td>\n",
              "      <td>Y</td>\n",
              "      <td>40.0</td>\n",
              "      <td>...</td>\n",
              "      <td>Y</td>\n",
              "      <td>Consistent</td>\n",
              "      <td>US</td>\n",
              "      <td>NaN</td>\n",
              "      <td>NaN</td>\n",
              "      <td>2.0</td>\n",
              "      <td>NaN</td>\n",
              "      <td>NaN</td>\n",
              "      <td>Y</td>\n",
              "      <td>4.033333</td>\n",
              "    </tr>\n",
              "    <tr>\n",
              "      <th>2</th>\n",
              "      <td>Y</td>\n",
              "      <td>Prepandemic</td>\n",
              "      <td>1</td>\n",
              "      <td>N</td>\n",
              "      <td>Surveillance</td>\n",
              "      <td>64</td>\n",
              "      <td>M</td>\n",
              "      <td>ARLD</td>\n",
              "      <td>Y</td>\n",
              "      <td>52.0</td>\n",
              "      <td>...</td>\n",
              "      <td>Y</td>\n",
              "      <td>Consistent</td>\n",
              "      <td>US</td>\n",
              "      <td>NaN</td>\n",
              "      <td>NaN</td>\n",
              "      <td>0.0</td>\n",
              "      <td>NaN</td>\n",
              "      <td>NaN</td>\n",
              "      <td>Y</td>\n",
              "      <td>5.900000</td>\n",
              "    </tr>\n",
              "    <tr>\n",
              "      <th>3</th>\n",
              "      <td>Y</td>\n",
              "      <td>Prepandemic</td>\n",
              "      <td>1</td>\n",
              "      <td>N</td>\n",
              "      <td>Incidental</td>\n",
              "      <td>73</td>\n",
              "      <td>M</td>\n",
              "      <td>ARLD</td>\n",
              "      <td>Y</td>\n",
              "      <td>80.0</td>\n",
              "      <td>...</td>\n",
              "      <td>N</td>\n",
              "      <td>NaN</td>\n",
              "      <td>NaN</td>\n",
              "      <td>NaN</td>\n",
              "      <td>NaN</td>\n",
              "      <td>2.0</td>\n",
              "      <td>NaN</td>\n",
              "      <td>NaN</td>\n",
              "      <td>Y</td>\n",
              "      <td>NaN</td>\n",
              "    </tr>\n",
              "    <tr>\n",
              "      <th>4</th>\n",
              "      <td>Y</td>\n",
              "      <td>Prepandemic</td>\n",
              "      <td>1</td>\n",
              "      <td>N</td>\n",
              "      <td>Incidental</td>\n",
              "      <td>66</td>\n",
              "      <td>F</td>\n",
              "      <td>ARLD</td>\n",
              "      <td>Y</td>\n",
              "      <td>60.0</td>\n",
              "      <td>...</td>\n",
              "      <td>N</td>\n",
              "      <td>NaN</td>\n",
              "      <td>NaN</td>\n",
              "      <td>NaN</td>\n",
              "      <td>NaN</td>\n",
              "      <td>0.0</td>\n",
              "      <td>NaN</td>\n",
              "      <td>NaN</td>\n",
              "      <td>Y</td>\n",
              "      <td>NaN</td>\n",
              "    </tr>\n",
              "    <tr>\n",
              "      <th>...</th>\n",
              "      <td>...</td>\n",
              "      <td>...</td>\n",
              "      <td>...</td>\n",
              "      <td>...</td>\n",
              "      <td>...</td>\n",
              "      <td>...</td>\n",
              "      <td>...</td>\n",
              "      <td>...</td>\n",
              "      <td>...</td>\n",
              "      <td>...</td>\n",
              "      <td>...</td>\n",
              "      <td>...</td>\n",
              "      <td>...</td>\n",
              "      <td>...</td>\n",
              "      <td>...</td>\n",
              "      <td>...</td>\n",
              "      <td>...</td>\n",
              "      <td>...</td>\n",
              "      <td>...</td>\n",
              "      <td>...</td>\n",
              "      <td>...</td>\n",
              "    </tr>\n",
              "    <tr>\n",
              "      <th>445</th>\n",
              "      <td>N</td>\n",
              "      <td>Pandemic</td>\n",
              "      <td>12</td>\n",
              "      <td>NaN</td>\n",
              "      <td>Symptomatic</td>\n",
              "      <td>72</td>\n",
              "      <td>F</td>\n",
              "      <td>NaN</td>\n",
              "      <td>NaN</td>\n",
              "      <td>NaN</td>\n",
              "      <td>...</td>\n",
              "      <td>NaN</td>\n",
              "      <td>NaN</td>\n",
              "      <td>NaN</td>\n",
              "      <td>NaN</td>\n",
              "      <td>NaN</td>\n",
              "      <td>1.0</td>\n",
              "      <td>NaN</td>\n",
              "      <td>NaN</td>\n",
              "      <td>Y</td>\n",
              "      <td>NaN</td>\n",
              "    </tr>\n",
              "    <tr>\n",
              "      <th>446</th>\n",
              "      <td>N</td>\n",
              "      <td>Pandemic</td>\n",
              "      <td>12</td>\n",
              "      <td>NaN</td>\n",
              "      <td>Symptomatic</td>\n",
              "      <td>63</td>\n",
              "      <td>M</td>\n",
              "      <td>NaN</td>\n",
              "      <td>NaN</td>\n",
              "      <td>75.0</td>\n",
              "      <td>...</td>\n",
              "      <td>NaN</td>\n",
              "      <td>NaN</td>\n",
              "      <td>NaN</td>\n",
              "      <td>2.93</td>\n",
              "      <td>NaN</td>\n",
              "      <td>0.0</td>\n",
              "      <td>1.63</td>\n",
              "      <td>1.63</td>\n",
              "      <td>Y</td>\n",
              "      <td>NaN</td>\n",
              "    </tr>\n",
              "    <tr>\n",
              "      <th>447</th>\n",
              "      <td>N</td>\n",
              "      <td>Pandemic</td>\n",
              "      <td>12</td>\n",
              "      <td>NaN</td>\n",
              "      <td>Symptomatic</td>\n",
              "      <td>79</td>\n",
              "      <td>F</td>\n",
              "      <td>NaN</td>\n",
              "      <td>NaN</td>\n",
              "      <td>63.0</td>\n",
              "      <td>...</td>\n",
              "      <td>NaN</td>\n",
              "      <td>NaN</td>\n",
              "      <td>NaN</td>\n",
              "      <td>NaN</td>\n",
              "      <td>NaN</td>\n",
              "      <td>1.0</td>\n",
              "      <td>NaN</td>\n",
              "      <td>NaN</td>\n",
              "      <td>Y</td>\n",
              "      <td>NaN</td>\n",
              "    </tr>\n",
              "    <tr>\n",
              "      <th>448</th>\n",
              "      <td>N</td>\n",
              "      <td>Pandemic</td>\n",
              "      <td>12</td>\n",
              "      <td>NaN</td>\n",
              "      <td>Symptomatic</td>\n",
              "      <td>84</td>\n",
              "      <td>F</td>\n",
              "      <td>NaN</td>\n",
              "      <td>NaN</td>\n",
              "      <td>65.0</td>\n",
              "      <td>...</td>\n",
              "      <td>NaN</td>\n",
              "      <td>NaN</td>\n",
              "      <td>NaN</td>\n",
              "      <td>NaN</td>\n",
              "      <td>NaN</td>\n",
              "      <td>2.0</td>\n",
              "      <td>NaN</td>\n",
              "      <td>NaN</td>\n",
              "      <td>Y</td>\n",
              "      <td>NaN</td>\n",
              "    </tr>\n",
              "    <tr>\n",
              "      <th>449</th>\n",
              "      <td>N</td>\n",
              "      <td>Pandemic</td>\n",
              "      <td>12</td>\n",
              "      <td>NaN</td>\n",
              "      <td>Incidental</td>\n",
              "      <td>80</td>\n",
              "      <td>F</td>\n",
              "      <td>NaN</td>\n",
              "      <td>NaN</td>\n",
              "      <td>45.0</td>\n",
              "      <td>...</td>\n",
              "      <td>NaN</td>\n",
              "      <td>NaN</td>\n",
              "      <td>NaN</td>\n",
              "      <td>0.00</td>\n",
              "      <td>NaN</td>\n",
              "      <td>2.0</td>\n",
              "      <td>NaN</td>\n",
              "      <td>NaN</td>\n",
              "      <td>Y</td>\n",
              "      <td>NaN</td>\n",
              "    </tr>\n",
              "  </tbody>\n",
              "</table>\n",
              "<p>450 rows × 27 columns</p>\n",
              "</div>\n",
              "      <button class=\"colab-df-convert\" onclick=\"convertToInteractive('df-63252980-854d-4109-80ea-4936b3488ad1')\"\n",
              "              title=\"Convert this dataframe to an interactive table.\"\n",
              "              style=\"display:none;\">\n",
              "\n",
              "  <svg xmlns=\"http://www.w3.org/2000/svg\" height=\"24px\"viewBox=\"0 0 24 24\"\n",
              "       width=\"24px\">\n",
              "    <path d=\"M0 0h24v24H0V0z\" fill=\"none\"/>\n",
              "    <path d=\"M18.56 5.44l.94 2.06.94-2.06 2.06-.94-2.06-.94-.94-2.06-.94 2.06-2.06.94zm-11 1L8.5 8.5l.94-2.06 2.06-.94-2.06-.94L8.5 2.5l-.94 2.06-2.06.94zm10 10l.94 2.06.94-2.06 2.06-.94-2.06-.94-.94-2.06-.94 2.06-2.06.94z\"/><path d=\"M17.41 7.96l-1.37-1.37c-.4-.4-.92-.59-1.43-.59-.52 0-1.04.2-1.43.59L10.3 9.45l-7.72 7.72c-.78.78-.78 2.05 0 2.83L4 21.41c.39.39.9.59 1.41.59.51 0 1.02-.2 1.41-.59l7.78-7.78 2.81-2.81c.8-.78.8-2.07 0-2.86zM5.41 20L4 18.59l7.72-7.72 1.47 1.35L5.41 20z\"/>\n",
              "  </svg>\n",
              "      </button>\n",
              "\n",
              "\n",
              "\n",
              "    <div id=\"df-a9dabea8-0693-454d-9160-f1c134a267b6\">\n",
              "      <button class=\"colab-df-quickchart\" onclick=\"quickchart('df-a9dabea8-0693-454d-9160-f1c134a267b6')\"\n",
              "              title=\"Suggest charts.\"\n",
              "              style=\"display:none;\">\n",
              "\n",
              "<svg xmlns=\"http://www.w3.org/2000/svg\" height=\"24px\"viewBox=\"0 0 24 24\"\n",
              "     width=\"24px\">\n",
              "    <g>\n",
              "        <path d=\"M19 3H5c-1.1 0-2 .9-2 2v14c0 1.1.9 2 2 2h14c1.1 0 2-.9 2-2V5c0-1.1-.9-2-2-2zM9 17H7v-7h2v7zm4 0h-2V7h2v10zm4 0h-2v-4h2v4z\"/>\n",
              "    </g>\n",
              "</svg>\n",
              "      </button>\n",
              "    </div>\n",
              "\n",
              "<style>\n",
              "  .colab-df-quickchart {\n",
              "    background-color: #E8F0FE;\n",
              "    border: none;\n",
              "    border-radius: 50%;\n",
              "    cursor: pointer;\n",
              "    display: none;\n",
              "    fill: #1967D2;\n",
              "    height: 32px;\n",
              "    padding: 0 0 0 0;\n",
              "    width: 32px;\n",
              "  }\n",
              "\n",
              "  .colab-df-quickchart:hover {\n",
              "    background-color: #E2EBFA;\n",
              "    box-shadow: 0px 1px 2px rgba(60, 64, 67, 0.3), 0px 1px 3px 1px rgba(60, 64, 67, 0.15);\n",
              "    fill: #174EA6;\n",
              "  }\n",
              "\n",
              "  [theme=dark] .colab-df-quickchart {\n",
              "    background-color: #3B4455;\n",
              "    fill: #D2E3FC;\n",
              "  }\n",
              "\n",
              "  [theme=dark] .colab-df-quickchart:hover {\n",
              "    background-color: #434B5C;\n",
              "    box-shadow: 0px 1px 3px 1px rgba(0, 0, 0, 0.15);\n",
              "    filter: drop-shadow(0px 1px 2px rgba(0, 0, 0, 0.3));\n",
              "    fill: #FFFFFF;\n",
              "  }\n",
              "</style>\n",
              "\n",
              "    <script>\n",
              "      async function quickchart(key) {\n",
              "        const containerElement = document.querySelector('#' + key);\n",
              "        const charts = await google.colab.kernel.invokeFunction(\n",
              "            'suggestCharts', [key], {});\n",
              "      }\n",
              "    </script>\n",
              "\n",
              "\n",
              "      <script>\n",
              "\n",
              "function displayQuickchartButton(domScope) {\n",
              "  let quickchartButtonEl =\n",
              "    domScope.querySelector('#df-a9dabea8-0693-454d-9160-f1c134a267b6 button.colab-df-quickchart');\n",
              "  quickchartButtonEl.style.display =\n",
              "    google.colab.kernel.accessAllowed ? 'block' : 'none';\n",
              "}\n",
              "\n",
              "        displayQuickchartButton(document);\n",
              "      </script>\n",
              "      <style>\n",
              "    .colab-df-container {\n",
              "      display:flex;\n",
              "      flex-wrap:wrap;\n",
              "      gap: 12px;\n",
              "    }\n",
              "\n",
              "    .colab-df-convert {\n",
              "      background-color: #E8F0FE;\n",
              "      border: none;\n",
              "      border-radius: 50%;\n",
              "      cursor: pointer;\n",
              "      display: none;\n",
              "      fill: #1967D2;\n",
              "      height: 32px;\n",
              "      padding: 0 0 0 0;\n",
              "      width: 32px;\n",
              "    }\n",
              "\n",
              "    .colab-df-convert:hover {\n",
              "      background-color: #E2EBFA;\n",
              "      box-shadow: 0px 1px 2px rgba(60, 64, 67, 0.3), 0px 1px 3px 1px rgba(60, 64, 67, 0.15);\n",
              "      fill: #174EA6;\n",
              "    }\n",
              "\n",
              "    [theme=dark] .colab-df-convert {\n",
              "      background-color: #3B4455;\n",
              "      fill: #D2E3FC;\n",
              "    }\n",
              "\n",
              "    [theme=dark] .colab-df-convert:hover {\n",
              "      background-color: #434B5C;\n",
              "      box-shadow: 0px 1px 3px 1px rgba(0, 0, 0, 0.15);\n",
              "      filter: drop-shadow(0px 1px 2px rgba(0, 0, 0, 0.3));\n",
              "      fill: #FFFFFF;\n",
              "    }\n",
              "  </style>\n",
              "\n",
              "      <script>\n",
              "        const buttonEl =\n",
              "          document.querySelector('#df-63252980-854d-4109-80ea-4936b3488ad1 button.colab-df-convert');\n",
              "        buttonEl.style.display =\n",
              "          google.colab.kernel.accessAllowed ? 'block' : 'none';\n",
              "\n",
              "        async function convertToInteractive(key) {\n",
              "          const element = document.querySelector('#df-63252980-854d-4109-80ea-4936b3488ad1');\n",
              "          const dataTable =\n",
              "            await google.colab.kernel.invokeFunction('convertToInteractive',\n",
              "                                                     [key], {});\n",
              "          if (!dataTable) return;\n",
              "\n",
              "          const docLinkHtml = 'Like what you see? Visit the ' +\n",
              "            '<a target=\"_blank\" href=https://colab.research.google.com/notebooks/data_table.ipynb>data table notebook</a>'\n",
              "            + ' to learn more about interactive tables.';\n",
              "          element.innerHTML = '';\n",
              "          dataTable['output_type'] = 'display_data';\n",
              "          await google.colab.output.renderOutput(dataTable, element);\n",
              "          const docLink = document.createElement('div');\n",
              "          docLink.innerHTML = docLinkHtml;\n",
              "          element.appendChild(docLink);\n",
              "        }\n",
              "      </script>\n",
              "    </div>\n",
              "  </div>\n"
            ]
          },
          "metadata": {},
          "execution_count": 4
        }
      ]
    },
    {
      "cell_type": "code",
      "source": [
        "df.columns"
      ],
      "metadata": {
        "colab": {
          "base_uri": "https://localhost:8080/"
        },
        "id": "sAUza0ObH-t6",
        "outputId": "eb6c430f-bdd6-4fab-9653-d23234a52e51"
      },
      "execution_count": null,
      "outputs": [
        {
          "output_type": "execute_result",
          "data": {
            "text/plain": [
              "Index(['Cancer', 'Year', 'Month', 'Bleed', 'Mode_Presentation', 'Age',\n",
              "       'Gender', 'Etiology', 'Cirrhosis', 'Size', 'HCC_TNM_Stage',\n",
              "       'HCC_BCLC_Stage', 'ICC_TNM_Stage', 'Treatment_grps', 'Survival_fromMDM',\n",
              "       'Alive_Dead', 'Type_of_incidental_finding', 'Surveillance_programme',\n",
              "       'Surveillance_effectiveness', 'Mode_of_surveillance_detection',\n",
              "       'Time_diagnosis_1st_Tx', 'Date_incident_surveillance_scan', 'PS',\n",
              "       'Time_MDM_1st_treatment', 'Time_decisiontotreat_1st_treatment',\n",
              "       'Prev_known_cirrhosis', 'Months_from_last_surveillance'],\n",
              "      dtype='object')"
            ]
          },
          "metadata": {},
          "execution_count": 5
        }
      ]
    },
    {
      "cell_type": "code",
      "source": [
        "df1=df.drop(['Year', 'Month','Age','Gender','Treatment_grps','Alive_Dead','Surveillance_programme','Mode_of_surveillance_detection', 'Time_diagnosis_1st_Tx','Date_incident_surveillance_scan','Time_MDM_1st_treatment','Time_decisiontotreat_1st_treatment','Months_from_last_surveillance'],axis='columns')"
      ],
      "metadata": {
        "id": "18CYVW8YMp_k"
      },
      "execution_count": null,
      "outputs": []
    },
    {
      "cell_type": "code",
      "source": [
        "df1"
      ],
      "metadata": {
        "colab": {
          "base_uri": "https://localhost:8080/",
          "height": 487
        },
        "id": "ZZR8bReZPPam",
        "outputId": "5344c979-c61f-45b6-adb4-e9f151493a2e"
      },
      "execution_count": null,
      "outputs": [
        {
          "output_type": "execute_result",
          "data": {
            "text/plain": [
              "    Cancer Bleed Mode_Presentation Etiology Cirrhosis  Size HCC_TNM_Stage  \\\n",
              "0        Y     N      Surveillance    NAFLD         Y  22.0            II   \n",
              "1        Y     N      Surveillance     ARLD         Y  40.0             I   \n",
              "2        Y     N      Surveillance     ARLD         Y  52.0            IV   \n",
              "3        Y     N        Incidental     ARLD         Y  80.0            IV   \n",
              "4        Y     N        Incidental     ARLD         Y  60.0             I   \n",
              "..     ...   ...               ...      ...       ...   ...           ...   \n",
              "445      N   NaN       Symptomatic      NaN       NaN   NaN           NaN   \n",
              "446      N   NaN       Symptomatic      NaN       NaN  75.0           NaN   \n",
              "447      N   NaN       Symptomatic      NaN       NaN  63.0           NaN   \n",
              "448      N   NaN       Symptomatic      NaN       NaN  65.0           NaN   \n",
              "449      N   NaN        Incidental      NaN       NaN  45.0           NaN   \n",
              "\n",
              "    HCC_BCLC_Stage ICC_TNM_Stage  Survival_fromMDM Type_of_incidental_finding  \\\n",
              "0                A           NaN             32.73                        NaN   \n",
              "1                D           NaN              3.03                        NaN   \n",
              "2                B           NaN             14.97                        NaN   \n",
              "3                C           NaN              1.40       Secondary careacute   \n",
              "4                0           NaN             32.50       Secondary careacute   \n",
              "..             ...           ...               ...                        ...   \n",
              "445            NaN           III              1.20                        NaN   \n",
              "446            NaN            IV              9.67                        NaN   \n",
              "447            NaN            IV              1.47                        NaN   \n",
              "448            NaN            IV              1.67                        NaN   \n",
              "449            NaN            II              7.27                        NaN   \n",
              "\n",
              "    Surveillance_effectiveness   PS Prev_known_cirrhosis  \n",
              "0                   Consistent  0.0                    Y  \n",
              "1                   Consistent  2.0                    Y  \n",
              "2                   Consistent  0.0                    Y  \n",
              "3                          NaN  2.0                    Y  \n",
              "4                          NaN  0.0                    Y  \n",
              "..                         ...  ...                  ...  \n",
              "445                        NaN  1.0                    Y  \n",
              "446                        NaN  0.0                    Y  \n",
              "447                        NaN  1.0                    Y  \n",
              "448                        NaN  2.0                    Y  \n",
              "449                        NaN  2.0                    Y  \n",
              "\n",
              "[450 rows x 14 columns]"
            ],
            "text/html": [
              "\n",
              "\n",
              "  <div id=\"df-9478a647-f2fe-4111-9b9d-dbc31f2e4418\">\n",
              "    <div class=\"colab-df-container\">\n",
              "      <div>\n",
              "<style scoped>\n",
              "    .dataframe tbody tr th:only-of-type {\n",
              "        vertical-align: middle;\n",
              "    }\n",
              "\n",
              "    .dataframe tbody tr th {\n",
              "        vertical-align: top;\n",
              "    }\n",
              "\n",
              "    .dataframe thead th {\n",
              "        text-align: right;\n",
              "    }\n",
              "</style>\n",
              "<table border=\"1\" class=\"dataframe\">\n",
              "  <thead>\n",
              "    <tr style=\"text-align: right;\">\n",
              "      <th></th>\n",
              "      <th>Cancer</th>\n",
              "      <th>Bleed</th>\n",
              "      <th>Mode_Presentation</th>\n",
              "      <th>Etiology</th>\n",
              "      <th>Cirrhosis</th>\n",
              "      <th>Size</th>\n",
              "      <th>HCC_TNM_Stage</th>\n",
              "      <th>HCC_BCLC_Stage</th>\n",
              "      <th>ICC_TNM_Stage</th>\n",
              "      <th>Survival_fromMDM</th>\n",
              "      <th>Type_of_incidental_finding</th>\n",
              "      <th>Surveillance_effectiveness</th>\n",
              "      <th>PS</th>\n",
              "      <th>Prev_known_cirrhosis</th>\n",
              "    </tr>\n",
              "  </thead>\n",
              "  <tbody>\n",
              "    <tr>\n",
              "      <th>0</th>\n",
              "      <td>Y</td>\n",
              "      <td>N</td>\n",
              "      <td>Surveillance</td>\n",
              "      <td>NAFLD</td>\n",
              "      <td>Y</td>\n",
              "      <td>22.0</td>\n",
              "      <td>II</td>\n",
              "      <td>A</td>\n",
              "      <td>NaN</td>\n",
              "      <td>32.73</td>\n",
              "      <td>NaN</td>\n",
              "      <td>Consistent</td>\n",
              "      <td>0.0</td>\n",
              "      <td>Y</td>\n",
              "    </tr>\n",
              "    <tr>\n",
              "      <th>1</th>\n",
              "      <td>Y</td>\n",
              "      <td>N</td>\n",
              "      <td>Surveillance</td>\n",
              "      <td>ARLD</td>\n",
              "      <td>Y</td>\n",
              "      <td>40.0</td>\n",
              "      <td>I</td>\n",
              "      <td>D</td>\n",
              "      <td>NaN</td>\n",
              "      <td>3.03</td>\n",
              "      <td>NaN</td>\n",
              "      <td>Consistent</td>\n",
              "      <td>2.0</td>\n",
              "      <td>Y</td>\n",
              "    </tr>\n",
              "    <tr>\n",
              "      <th>2</th>\n",
              "      <td>Y</td>\n",
              "      <td>N</td>\n",
              "      <td>Surveillance</td>\n",
              "      <td>ARLD</td>\n",
              "      <td>Y</td>\n",
              "      <td>52.0</td>\n",
              "      <td>IV</td>\n",
              "      <td>B</td>\n",
              "      <td>NaN</td>\n",
              "      <td>14.97</td>\n",
              "      <td>NaN</td>\n",
              "      <td>Consistent</td>\n",
              "      <td>0.0</td>\n",
              "      <td>Y</td>\n",
              "    </tr>\n",
              "    <tr>\n",
              "      <th>3</th>\n",
              "      <td>Y</td>\n",
              "      <td>N</td>\n",
              "      <td>Incidental</td>\n",
              "      <td>ARLD</td>\n",
              "      <td>Y</td>\n",
              "      <td>80.0</td>\n",
              "      <td>IV</td>\n",
              "      <td>C</td>\n",
              "      <td>NaN</td>\n",
              "      <td>1.40</td>\n",
              "      <td>Secondary careacute</td>\n",
              "      <td>NaN</td>\n",
              "      <td>2.0</td>\n",
              "      <td>Y</td>\n",
              "    </tr>\n",
              "    <tr>\n",
              "      <th>4</th>\n",
              "      <td>Y</td>\n",
              "      <td>N</td>\n",
              "      <td>Incidental</td>\n",
              "      <td>ARLD</td>\n",
              "      <td>Y</td>\n",
              "      <td>60.0</td>\n",
              "      <td>I</td>\n",
              "      <td>0</td>\n",
              "      <td>NaN</td>\n",
              "      <td>32.50</td>\n",
              "      <td>Secondary careacute</td>\n",
              "      <td>NaN</td>\n",
              "      <td>0.0</td>\n",
              "      <td>Y</td>\n",
              "    </tr>\n",
              "    <tr>\n",
              "      <th>...</th>\n",
              "      <td>...</td>\n",
              "      <td>...</td>\n",
              "      <td>...</td>\n",
              "      <td>...</td>\n",
              "      <td>...</td>\n",
              "      <td>...</td>\n",
              "      <td>...</td>\n",
              "      <td>...</td>\n",
              "      <td>...</td>\n",
              "      <td>...</td>\n",
              "      <td>...</td>\n",
              "      <td>...</td>\n",
              "      <td>...</td>\n",
              "      <td>...</td>\n",
              "    </tr>\n",
              "    <tr>\n",
              "      <th>445</th>\n",
              "      <td>N</td>\n",
              "      <td>NaN</td>\n",
              "      <td>Symptomatic</td>\n",
              "      <td>NaN</td>\n",
              "      <td>NaN</td>\n",
              "      <td>NaN</td>\n",
              "      <td>NaN</td>\n",
              "      <td>NaN</td>\n",
              "      <td>III</td>\n",
              "      <td>1.20</td>\n",
              "      <td>NaN</td>\n",
              "      <td>NaN</td>\n",
              "      <td>1.0</td>\n",
              "      <td>Y</td>\n",
              "    </tr>\n",
              "    <tr>\n",
              "      <th>446</th>\n",
              "      <td>N</td>\n",
              "      <td>NaN</td>\n",
              "      <td>Symptomatic</td>\n",
              "      <td>NaN</td>\n",
              "      <td>NaN</td>\n",
              "      <td>75.0</td>\n",
              "      <td>NaN</td>\n",
              "      <td>NaN</td>\n",
              "      <td>IV</td>\n",
              "      <td>9.67</td>\n",
              "      <td>NaN</td>\n",
              "      <td>NaN</td>\n",
              "      <td>0.0</td>\n",
              "      <td>Y</td>\n",
              "    </tr>\n",
              "    <tr>\n",
              "      <th>447</th>\n",
              "      <td>N</td>\n",
              "      <td>NaN</td>\n",
              "      <td>Symptomatic</td>\n",
              "      <td>NaN</td>\n",
              "      <td>NaN</td>\n",
              "      <td>63.0</td>\n",
              "      <td>NaN</td>\n",
              "      <td>NaN</td>\n",
              "      <td>IV</td>\n",
              "      <td>1.47</td>\n",
              "      <td>NaN</td>\n",
              "      <td>NaN</td>\n",
              "      <td>1.0</td>\n",
              "      <td>Y</td>\n",
              "    </tr>\n",
              "    <tr>\n",
              "      <th>448</th>\n",
              "      <td>N</td>\n",
              "      <td>NaN</td>\n",
              "      <td>Symptomatic</td>\n",
              "      <td>NaN</td>\n",
              "      <td>NaN</td>\n",
              "      <td>65.0</td>\n",
              "      <td>NaN</td>\n",
              "      <td>NaN</td>\n",
              "      <td>IV</td>\n",
              "      <td>1.67</td>\n",
              "      <td>NaN</td>\n",
              "      <td>NaN</td>\n",
              "      <td>2.0</td>\n",
              "      <td>Y</td>\n",
              "    </tr>\n",
              "    <tr>\n",
              "      <th>449</th>\n",
              "      <td>N</td>\n",
              "      <td>NaN</td>\n",
              "      <td>Incidental</td>\n",
              "      <td>NaN</td>\n",
              "      <td>NaN</td>\n",
              "      <td>45.0</td>\n",
              "      <td>NaN</td>\n",
              "      <td>NaN</td>\n",
              "      <td>II</td>\n",
              "      <td>7.27</td>\n",
              "      <td>NaN</td>\n",
              "      <td>NaN</td>\n",
              "      <td>2.0</td>\n",
              "      <td>Y</td>\n",
              "    </tr>\n",
              "  </tbody>\n",
              "</table>\n",
              "<p>450 rows × 14 columns</p>\n",
              "</div>\n",
              "      <button class=\"colab-df-convert\" onclick=\"convertToInteractive('df-9478a647-f2fe-4111-9b9d-dbc31f2e4418')\"\n",
              "              title=\"Convert this dataframe to an interactive table.\"\n",
              "              style=\"display:none;\">\n",
              "\n",
              "  <svg xmlns=\"http://www.w3.org/2000/svg\" height=\"24px\"viewBox=\"0 0 24 24\"\n",
              "       width=\"24px\">\n",
              "    <path d=\"M0 0h24v24H0V0z\" fill=\"none\"/>\n",
              "    <path d=\"M18.56 5.44l.94 2.06.94-2.06 2.06-.94-2.06-.94-.94-2.06-.94 2.06-2.06.94zm-11 1L8.5 8.5l.94-2.06 2.06-.94-2.06-.94L8.5 2.5l-.94 2.06-2.06.94zm10 10l.94 2.06.94-2.06 2.06-.94-2.06-.94-.94-2.06-.94 2.06-2.06.94z\"/><path d=\"M17.41 7.96l-1.37-1.37c-.4-.4-.92-.59-1.43-.59-.52 0-1.04.2-1.43.59L10.3 9.45l-7.72 7.72c-.78.78-.78 2.05 0 2.83L4 21.41c.39.39.9.59 1.41.59.51 0 1.02-.2 1.41-.59l7.78-7.78 2.81-2.81c.8-.78.8-2.07 0-2.86zM5.41 20L4 18.59l7.72-7.72 1.47 1.35L5.41 20z\"/>\n",
              "  </svg>\n",
              "      </button>\n",
              "\n",
              "\n",
              "\n",
              "    <div id=\"df-0ea38ec5-becc-40f4-9889-1d495d129561\">\n",
              "      <button class=\"colab-df-quickchart\" onclick=\"quickchart('df-0ea38ec5-becc-40f4-9889-1d495d129561')\"\n",
              "              title=\"Suggest charts.\"\n",
              "              style=\"display:none;\">\n",
              "\n",
              "<svg xmlns=\"http://www.w3.org/2000/svg\" height=\"24px\"viewBox=\"0 0 24 24\"\n",
              "     width=\"24px\">\n",
              "    <g>\n",
              "        <path d=\"M19 3H5c-1.1 0-2 .9-2 2v14c0 1.1.9 2 2 2h14c1.1 0 2-.9 2-2V5c0-1.1-.9-2-2-2zM9 17H7v-7h2v7zm4 0h-2V7h2v10zm4 0h-2v-4h2v4z\"/>\n",
              "    </g>\n",
              "</svg>\n",
              "      </button>\n",
              "    </div>\n",
              "\n",
              "<style>\n",
              "  .colab-df-quickchart {\n",
              "    background-color: #E8F0FE;\n",
              "    border: none;\n",
              "    border-radius: 50%;\n",
              "    cursor: pointer;\n",
              "    display: none;\n",
              "    fill: #1967D2;\n",
              "    height: 32px;\n",
              "    padding: 0 0 0 0;\n",
              "    width: 32px;\n",
              "  }\n",
              "\n",
              "  .colab-df-quickchart:hover {\n",
              "    background-color: #E2EBFA;\n",
              "    box-shadow: 0px 1px 2px rgba(60, 64, 67, 0.3), 0px 1px 3px 1px rgba(60, 64, 67, 0.15);\n",
              "    fill: #174EA6;\n",
              "  }\n",
              "\n",
              "  [theme=dark] .colab-df-quickchart {\n",
              "    background-color: #3B4455;\n",
              "    fill: #D2E3FC;\n",
              "  }\n",
              "\n",
              "  [theme=dark] .colab-df-quickchart:hover {\n",
              "    background-color: #434B5C;\n",
              "    box-shadow: 0px 1px 3px 1px rgba(0, 0, 0, 0.15);\n",
              "    filter: drop-shadow(0px 1px 2px rgba(0, 0, 0, 0.3));\n",
              "    fill: #FFFFFF;\n",
              "  }\n",
              "</style>\n",
              "\n",
              "    <script>\n",
              "      async function quickchart(key) {\n",
              "        const containerElement = document.querySelector('#' + key);\n",
              "        const charts = await google.colab.kernel.invokeFunction(\n",
              "            'suggestCharts', [key], {});\n",
              "      }\n",
              "    </script>\n",
              "\n",
              "\n",
              "      <script>\n",
              "\n",
              "function displayQuickchartButton(domScope) {\n",
              "  let quickchartButtonEl =\n",
              "    domScope.querySelector('#df-0ea38ec5-becc-40f4-9889-1d495d129561 button.colab-df-quickchart');\n",
              "  quickchartButtonEl.style.display =\n",
              "    google.colab.kernel.accessAllowed ? 'block' : 'none';\n",
              "}\n",
              "\n",
              "        displayQuickchartButton(document);\n",
              "      </script>\n",
              "      <style>\n",
              "    .colab-df-container {\n",
              "      display:flex;\n",
              "      flex-wrap:wrap;\n",
              "      gap: 12px;\n",
              "    }\n",
              "\n",
              "    .colab-df-convert {\n",
              "      background-color: #E8F0FE;\n",
              "      border: none;\n",
              "      border-radius: 50%;\n",
              "      cursor: pointer;\n",
              "      display: none;\n",
              "      fill: #1967D2;\n",
              "      height: 32px;\n",
              "      padding: 0 0 0 0;\n",
              "      width: 32px;\n",
              "    }\n",
              "\n",
              "    .colab-df-convert:hover {\n",
              "      background-color: #E2EBFA;\n",
              "      box-shadow: 0px 1px 2px rgba(60, 64, 67, 0.3), 0px 1px 3px 1px rgba(60, 64, 67, 0.15);\n",
              "      fill: #174EA6;\n",
              "    }\n",
              "\n",
              "    [theme=dark] .colab-df-convert {\n",
              "      background-color: #3B4455;\n",
              "      fill: #D2E3FC;\n",
              "    }\n",
              "\n",
              "    [theme=dark] .colab-df-convert:hover {\n",
              "      background-color: #434B5C;\n",
              "      box-shadow: 0px 1px 3px 1px rgba(0, 0, 0, 0.15);\n",
              "      filter: drop-shadow(0px 1px 2px rgba(0, 0, 0, 0.3));\n",
              "      fill: #FFFFFF;\n",
              "    }\n",
              "  </style>\n",
              "\n",
              "      <script>\n",
              "        const buttonEl =\n",
              "          document.querySelector('#df-9478a647-f2fe-4111-9b9d-dbc31f2e4418 button.colab-df-convert');\n",
              "        buttonEl.style.display =\n",
              "          google.colab.kernel.accessAllowed ? 'block' : 'none';\n",
              "\n",
              "        async function convertToInteractive(key) {\n",
              "          const element = document.querySelector('#df-9478a647-f2fe-4111-9b9d-dbc31f2e4418');\n",
              "          const dataTable =\n",
              "            await google.colab.kernel.invokeFunction('convertToInteractive',\n",
              "                                                     [key], {});\n",
              "          if (!dataTable) return;\n",
              "\n",
              "          const docLinkHtml = 'Like what you see? Visit the ' +\n",
              "            '<a target=\"_blank\" href=https://colab.research.google.com/notebooks/data_table.ipynb>data table notebook</a>'\n",
              "            + ' to learn more about interactive tables.';\n",
              "          element.innerHTML = '';\n",
              "          dataTable['output_type'] = 'display_data';\n",
              "          await google.colab.output.renderOutput(dataTable, element);\n",
              "          const docLink = document.createElement('div');\n",
              "          docLink.innerHTML = docLinkHtml;\n",
              "          element.appendChild(docLink);\n",
              "        }\n",
              "      </script>\n",
              "    </div>\n",
              "  </div>\n"
            ]
          },
          "metadata": {},
          "execution_count": 7
        }
      ]
    },
    {
      "cell_type": "code",
      "source": [
        "df1.isnull().sum()"
      ],
      "metadata": {
        "colab": {
          "base_uri": "https://localhost:8080/"
        },
        "id": "zgDVfsFJPZIt",
        "outputId": "d41f19d2-2c56-4580-e630-090ae38681e0"
      },
      "execution_count": null,
      "outputs": [
        {
          "output_type": "execute_result",
          "data": {
            "text/plain": [
              "Cancer                          0\n",
              "Bleed                         140\n",
              "Mode_Presentation               0\n",
              "Etiology                      139\n",
              "Cirrhosis                     139\n",
              "Size                           50\n",
              "HCC_TNM_Stage                 139\n",
              "HCC_BCLC_Stage                139\n",
              "ICC_TNM_Stage                 311\n",
              "Survival_fromMDM                0\n",
              "Type_of_incidental_finding    326\n",
              "Surveillance_effectiveness    333\n",
              "PS                              2\n",
              "Prev_known_cirrhosis            5\n",
              "dtype: int64"
            ]
          },
          "metadata": {},
          "execution_count": 8
        }
      ]
    },
    {
      "cell_type": "code",
      "source": [
        "value_counts1 = df1['Bleed'].value_counts()\n",
        "value_counts2 = df1['Etiology'].value_counts()\n",
        "value_counts3 = df1['Cirrhosis'].value_counts()\n",
        "value_counts4 = df1['Size'].value_counts()\n",
        "value_counts5 = df1['HCC_TNM_Stage'].value_counts()\n",
        "value_counts6 = df1['HCC_BCLC_Stage'].value_counts()\n",
        "value_counts7 = df1['ICC_TNM_Stage'].value_counts()\n",
        "value_counts8 = df1['Type_of_incidental_finding'].value_counts()\n",
        "value_counts9 = df1['PS'].value_counts()\n",
        "value_count10 = df1['Surveillance_effectiveness'].value_counts()\n",
        "value_counts11 = df1['Prev_known_cirrhosis'].value_counts()"
      ],
      "metadata": {
        "id": "RQHbAbCdT2CD"
      },
      "execution_count": null,
      "outputs": []
    },
    {
      "cell_type": "code",
      "source": [
        "value_counts1"
      ],
      "metadata": {
        "id": "P3fAJIytfSqF",
        "colab": {
          "base_uri": "https://localhost:8080/"
        },
        "outputId": "5e40a867-9208-492f-89ea-386ab84898de"
      },
      "execution_count": null,
      "outputs": [
        {
          "output_type": "execute_result",
          "data": {
            "text/plain": [
              "N    304\n",
              "Y      6\n",
              "Name: Bleed, dtype: int64"
            ]
          },
          "metadata": {},
          "execution_count": 10
        }
      ]
    },
    {
      "cell_type": "code",
      "source": [
        "value_counts2"
      ],
      "metadata": {
        "id": "MlZ4TQrXfVOL",
        "colab": {
          "base_uri": "https://localhost:8080/"
        },
        "outputId": "8cb37a6b-b849-4dc7-a1c6-ff99d78bfd67"
      },
      "execution_count": null,
      "outputs": [
        {
          "output_type": "execute_result",
          "data": {
            "text/plain": [
              "NAFLD                 120\n",
              "ARLD                   95\n",
              "No established CLD     38\n",
              "HCV                    24\n",
              "HH                     15\n",
              "PBC/AIH                12\n",
              "HBV                     5\n",
              "Other                   2\n",
              "Name: Etiology, dtype: int64"
            ]
          },
          "metadata": {},
          "execution_count": 11
        }
      ]
    },
    {
      "cell_type": "code",
      "source": [
        "value_counts3"
      ],
      "metadata": {
        "id": "p-r_YX3vfWwE",
        "colab": {
          "base_uri": "https://localhost:8080/"
        },
        "outputId": "a9c91297-b9c0-4219-8899-7aed3eaf701f"
      },
      "execution_count": null,
      "outputs": [
        {
          "output_type": "execute_result",
          "data": {
            "text/plain": [
              "Y    215\n",
              "N     96\n",
              "Name: Cirrhosis, dtype: int64"
            ]
          },
          "metadata": {},
          "execution_count": 12
        }
      ]
    },
    {
      "cell_type": "code",
      "source": [
        "value_counts4"
      ],
      "metadata": {
        "id": "4ontFA0BfiLT",
        "colab": {
          "base_uri": "https://localhost:8080/"
        },
        "outputId": "fc307f4b-bd59-4cae-a8a9-ccd0b235d258"
      },
      "execution_count": null,
      "outputs": [
        {
          "output_type": "execute_result",
          "data": {
            "text/plain": [
              "20.0     17\n",
              "40.0     16\n",
              "100.0    15\n",
              "14.0     13\n",
              "18.0     13\n",
              "         ..\n",
              "107.0     1\n",
              "59.0      1\n",
              "38.0      1\n",
              "84.0      1\n",
              "63.0      1\n",
              "Name: Size, Length: 94, dtype: int64"
            ]
          },
          "metadata": {},
          "execution_count": 13
        }
      ]
    },
    {
      "cell_type": "code",
      "source": [
        "value_counts5"
      ],
      "metadata": {
        "id": "FMOPtsYCfi3k",
        "colab": {
          "base_uri": "https://localhost:8080/"
        },
        "outputId": "763baf76-2c62-4738-efea-bc4b86aa7aba"
      },
      "execution_count": null,
      "outputs": [
        {
          "output_type": "execute_result",
          "data": {
            "text/plain": [
              "I            127\n",
              "IIIA+IIIB     86\n",
              "II            58\n",
              "IV            40\n",
              "Name: HCC_TNM_Stage, dtype: int64"
            ]
          },
          "metadata": {},
          "execution_count": 14
        }
      ]
    },
    {
      "cell_type": "code",
      "source": [
        "value_counts6"
      ],
      "metadata": {
        "id": "6ckww1hwfjP8",
        "colab": {
          "base_uri": "https://localhost:8080/"
        },
        "outputId": "b36bb936-e88c-4909-da5a-201d9349703b"
      },
      "execution_count": null,
      "outputs": [
        {
          "output_type": "execute_result",
          "data": {
            "text/plain": [
              "C    152\n",
              "D     67\n",
              "A     65\n",
              "B     25\n",
              "0      2\n",
              "Name: HCC_BCLC_Stage, dtype: int64"
            ]
          },
          "metadata": {},
          "execution_count": 15
        }
      ]
    },
    {
      "cell_type": "code",
      "source": [
        "value_counts7"
      ],
      "metadata": {
        "id": "1WxtOlzrfjic",
        "colab": {
          "base_uri": "https://localhost:8080/"
        },
        "outputId": "6d2722e0-a1c1-4cee-878a-8fa7e0a56814"
      },
      "execution_count": null,
      "outputs": [
        {
          "output_type": "execute_result",
          "data": {
            "text/plain": [
              "IV     95\n",
              "II     22\n",
              "III    20\n",
              "I       2\n",
              "Name: ICC_TNM_Stage, dtype: int64"
            ]
          },
          "metadata": {},
          "execution_count": 16
        }
      ]
    },
    {
      "cell_type": "code",
      "source": [
        "value_counts8"
      ],
      "metadata": {
        "id": "rfpMqskrfj5s",
        "colab": {
          "base_uri": "https://localhost:8080/"
        },
        "outputId": "96c056fc-35b5-45ac-b730-86babd884569"
      },
      "execution_count": null,
      "outputs": [
        {
          "output_type": "execute_result",
          "data": {
            "text/plain": [
              "Secondary careacute      66\n",
              "Primary careroutine      30\n",
              "Secondary careroutine    23\n",
              "Primary careacute         5\n",
              "Name: Type_of_incidental_finding, dtype: int64"
            ]
          },
          "metadata": {},
          "execution_count": 17
        }
      ]
    },
    {
      "cell_type": "code",
      "source": [
        "value_counts9"
      ],
      "metadata": {
        "id": "wHMqIMaRfkSe",
        "colab": {
          "base_uri": "https://localhost:8080/"
        },
        "outputId": "55f15761-4537-4493-ee32-8b0c6dbd9a7f"
      },
      "execution_count": null,
      "outputs": [
        {
          "output_type": "execute_result",
          "data": {
            "text/plain": [
              "1.0    162\n",
              "0.0    126\n",
              "2.0     98\n",
              "3.0     57\n",
              "4.0      5\n",
              "Name: PS, dtype: int64"
            ]
          },
          "metadata": {},
          "execution_count": 18
        }
      ]
    },
    {
      "cell_type": "code",
      "source": [
        "value_count10"
      ],
      "metadata": {
        "colab": {
          "base_uri": "https://localhost:8080/"
        },
        "id": "3dL0AX1tAoR-",
        "outputId": "f2aacfce-0159-4afc-bbaf-4063f20e07ae"
      },
      "execution_count": null,
      "outputs": [
        {
          "output_type": "execute_result",
          "data": {
            "text/plain": [
              "Consistent      78\n",
              "Inconsistent    21\n",
              "Missed          18\n",
              "Name: Surveillance_effectiveness, dtype: int64"
            ]
          },
          "metadata": {},
          "execution_count": 19
        }
      ]
    },
    {
      "cell_type": "code",
      "source": [
        "value_counts11"
      ],
      "metadata": {
        "colab": {
          "base_uri": "https://localhost:8080/"
        },
        "id": "CUSIgY80Aku6",
        "outputId": "202ecfc3-9038-4d74-b4ac-efdcc75f34dc"
      },
      "execution_count": null,
      "outputs": [
        {
          "output_type": "execute_result",
          "data": {
            "text/plain": [
              "Y    273\n",
              "N    172\n",
              "Name: Prev_known_cirrhosis, dtype: int64"
            ]
          },
          "metadata": {},
          "execution_count": 20
        }
      ]
    },
    {
      "cell_type": "markdown",
      "source": [
        "# **Filling the columns with Missing values**"
      ],
      "metadata": {
        "id": "zXuwBD9vEY85"
      }
    },
    {
      "cell_type": "code",
      "source": [
        "avg_4=df1['Size'].mean()"
      ],
      "metadata": {
        "id": "YOTCTh7TEYP6"
      },
      "execution_count": null,
      "outputs": []
    },
    {
      "cell_type": "code",
      "source": [
        "df1['Bleed'].fillna('Y', inplace=True)"
      ],
      "metadata": {
        "id": "b0qoDkExFMSb"
      },
      "execution_count": null,
      "outputs": []
    },
    {
      "cell_type": "code",
      "source": [
        "df1['Etiology'].fillna('Other', inplace=True)"
      ],
      "metadata": {
        "id": "dbCjzIO9Fb1r"
      },
      "execution_count": null,
      "outputs": []
    },
    {
      "cell_type": "code",
      "source": [
        "df1['Cirrhosis'].fillna('N', inplace=True)"
      ],
      "metadata": {
        "id": "VzHiphrDFk7y"
      },
      "execution_count": null,
      "outputs": []
    },
    {
      "cell_type": "code",
      "source": [
        "df1['Size'].fillna(avg_4, inplace=True)"
      ],
      "metadata": {
        "id": "pXEgJJ8RGMiC"
      },
      "execution_count": null,
      "outputs": []
    },
    {
      "cell_type": "code",
      "source": [
        "df1['HCC_TNM_Stage'].fillna('IV', inplace=True)"
      ],
      "metadata": {
        "id": "LMDpDBlBGVV5"
      },
      "execution_count": null,
      "outputs": []
    },
    {
      "cell_type": "code",
      "source": [
        "df1['HCC_BCLC_Stage'].fillna(0, inplace=True)"
      ],
      "metadata": {
        "id": "UL-xkRQbGdpJ"
      },
      "execution_count": null,
      "outputs": []
    },
    {
      "cell_type": "code",
      "source": [
        "df1['ICC_TNM_Stage'].fillna('I', inplace=True)"
      ],
      "metadata": {
        "id": "mV8u6CaLGrPy"
      },
      "execution_count": null,
      "outputs": []
    },
    {
      "cell_type": "code",
      "source": [
        "df1['Type_of_incidental_finding'].fillna('Primary careacute', inplace=True)"
      ],
      "metadata": {
        "id": "yJ29Y5VzGx7a"
      },
      "execution_count": null,
      "outputs": []
    },
    {
      "cell_type": "code",
      "source": [
        "df1['PS'].fillna(4.0, inplace=True)"
      ],
      "metadata": {
        "id": "gbMMlL-KG6dK"
      },
      "execution_count": null,
      "outputs": []
    },
    {
      "cell_type": "code",
      "source": [
        "df1['Surveillance_effectiveness'].fillna('Missed', inplace=True)"
      ],
      "metadata": {
        "id": "BZiaQjvmHC-R"
      },
      "execution_count": null,
      "outputs": []
    },
    {
      "cell_type": "code",
      "source": [
        "df1['Prev_known_cirrhosis'].fillna('N', inplace=True)"
      ],
      "metadata": {
        "id": "r55bkceDHKMS"
      },
      "execution_count": null,
      "outputs": []
    },
    {
      "cell_type": "code",
      "source": [
        "df1"
      ],
      "metadata": {
        "colab": {
          "base_uri": "https://localhost:8080/",
          "height": 487
        },
        "id": "SRsFd0FgHSBx",
        "outputId": "fd94507c-8b04-4daf-fb87-cab0ea589161"
      },
      "execution_count": null,
      "outputs": [
        {
          "output_type": "execute_result",
          "data": {
            "text/plain": [
              "    Cancer Bleed Mode_Presentation Etiology Cirrhosis    Size HCC_TNM_Stage  \\\n",
              "0        Y     N      Surveillance    NAFLD         Y  22.000            II   \n",
              "1        Y     N      Surveillance     ARLD         Y  40.000             I   \n",
              "2        Y     N      Surveillance     ARLD         Y  52.000            IV   \n",
              "3        Y     N        Incidental     ARLD         Y  80.000            IV   \n",
              "4        Y     N        Incidental     ARLD         Y  60.000             I   \n",
              "..     ...   ...               ...      ...       ...     ...           ...   \n",
              "445      N     Y       Symptomatic    Other         N  53.355            IV   \n",
              "446      N     Y       Symptomatic    Other         N  75.000            IV   \n",
              "447      N     Y       Symptomatic    Other         N  63.000            IV   \n",
              "448      N     Y       Symptomatic    Other         N  65.000            IV   \n",
              "449      N     Y        Incidental    Other         N  45.000            IV   \n",
              "\n",
              "    HCC_BCLC_Stage ICC_TNM_Stage  Survival_fromMDM Type_of_incidental_finding  \\\n",
              "0                A             I             32.73         Primary careacute   \n",
              "1                D             I              3.03         Primary careacute   \n",
              "2                B             I             14.97         Primary careacute   \n",
              "3                C             I              1.40       Secondary careacute   \n",
              "4                0             I             32.50       Secondary careacute   \n",
              "..             ...           ...               ...                        ...   \n",
              "445              0           III              1.20         Primary careacute   \n",
              "446              0            IV              9.67         Primary careacute   \n",
              "447              0            IV              1.47         Primary careacute   \n",
              "448              0            IV              1.67         Primary careacute   \n",
              "449              0            II              7.27         Primary careacute   \n",
              "\n",
              "    Surveillance_effectiveness   PS Prev_known_cirrhosis  \n",
              "0                   Consistent  0.0                    Y  \n",
              "1                   Consistent  2.0                    Y  \n",
              "2                   Consistent  0.0                    Y  \n",
              "3                       Missed  2.0                    Y  \n",
              "4                       Missed  0.0                    Y  \n",
              "..                         ...  ...                  ...  \n",
              "445                     Missed  1.0                    Y  \n",
              "446                     Missed  0.0                    Y  \n",
              "447                     Missed  1.0                    Y  \n",
              "448                     Missed  2.0                    Y  \n",
              "449                     Missed  2.0                    Y  \n",
              "\n",
              "[450 rows x 14 columns]"
            ],
            "text/html": [
              "\n",
              "\n",
              "  <div id=\"df-8c5cab24-ed02-48d9-ab9d-8837383f3c75\">\n",
              "    <div class=\"colab-df-container\">\n",
              "      <div>\n",
              "<style scoped>\n",
              "    .dataframe tbody tr th:only-of-type {\n",
              "        vertical-align: middle;\n",
              "    }\n",
              "\n",
              "    .dataframe tbody tr th {\n",
              "        vertical-align: top;\n",
              "    }\n",
              "\n",
              "    .dataframe thead th {\n",
              "        text-align: right;\n",
              "    }\n",
              "</style>\n",
              "<table border=\"1\" class=\"dataframe\">\n",
              "  <thead>\n",
              "    <tr style=\"text-align: right;\">\n",
              "      <th></th>\n",
              "      <th>Cancer</th>\n",
              "      <th>Bleed</th>\n",
              "      <th>Mode_Presentation</th>\n",
              "      <th>Etiology</th>\n",
              "      <th>Cirrhosis</th>\n",
              "      <th>Size</th>\n",
              "      <th>HCC_TNM_Stage</th>\n",
              "      <th>HCC_BCLC_Stage</th>\n",
              "      <th>ICC_TNM_Stage</th>\n",
              "      <th>Survival_fromMDM</th>\n",
              "      <th>Type_of_incidental_finding</th>\n",
              "      <th>Surveillance_effectiveness</th>\n",
              "      <th>PS</th>\n",
              "      <th>Prev_known_cirrhosis</th>\n",
              "    </tr>\n",
              "  </thead>\n",
              "  <tbody>\n",
              "    <tr>\n",
              "      <th>0</th>\n",
              "      <td>Y</td>\n",
              "      <td>N</td>\n",
              "      <td>Surveillance</td>\n",
              "      <td>NAFLD</td>\n",
              "      <td>Y</td>\n",
              "      <td>22.000</td>\n",
              "      <td>II</td>\n",
              "      <td>A</td>\n",
              "      <td>I</td>\n",
              "      <td>32.73</td>\n",
              "      <td>Primary careacute</td>\n",
              "      <td>Consistent</td>\n",
              "      <td>0.0</td>\n",
              "      <td>Y</td>\n",
              "    </tr>\n",
              "    <tr>\n",
              "      <th>1</th>\n",
              "      <td>Y</td>\n",
              "      <td>N</td>\n",
              "      <td>Surveillance</td>\n",
              "      <td>ARLD</td>\n",
              "      <td>Y</td>\n",
              "      <td>40.000</td>\n",
              "      <td>I</td>\n",
              "      <td>D</td>\n",
              "      <td>I</td>\n",
              "      <td>3.03</td>\n",
              "      <td>Primary careacute</td>\n",
              "      <td>Consistent</td>\n",
              "      <td>2.0</td>\n",
              "      <td>Y</td>\n",
              "    </tr>\n",
              "    <tr>\n",
              "      <th>2</th>\n",
              "      <td>Y</td>\n",
              "      <td>N</td>\n",
              "      <td>Surveillance</td>\n",
              "      <td>ARLD</td>\n",
              "      <td>Y</td>\n",
              "      <td>52.000</td>\n",
              "      <td>IV</td>\n",
              "      <td>B</td>\n",
              "      <td>I</td>\n",
              "      <td>14.97</td>\n",
              "      <td>Primary careacute</td>\n",
              "      <td>Consistent</td>\n",
              "      <td>0.0</td>\n",
              "      <td>Y</td>\n",
              "    </tr>\n",
              "    <tr>\n",
              "      <th>3</th>\n",
              "      <td>Y</td>\n",
              "      <td>N</td>\n",
              "      <td>Incidental</td>\n",
              "      <td>ARLD</td>\n",
              "      <td>Y</td>\n",
              "      <td>80.000</td>\n",
              "      <td>IV</td>\n",
              "      <td>C</td>\n",
              "      <td>I</td>\n",
              "      <td>1.40</td>\n",
              "      <td>Secondary careacute</td>\n",
              "      <td>Missed</td>\n",
              "      <td>2.0</td>\n",
              "      <td>Y</td>\n",
              "    </tr>\n",
              "    <tr>\n",
              "      <th>4</th>\n",
              "      <td>Y</td>\n",
              "      <td>N</td>\n",
              "      <td>Incidental</td>\n",
              "      <td>ARLD</td>\n",
              "      <td>Y</td>\n",
              "      <td>60.000</td>\n",
              "      <td>I</td>\n",
              "      <td>0</td>\n",
              "      <td>I</td>\n",
              "      <td>32.50</td>\n",
              "      <td>Secondary careacute</td>\n",
              "      <td>Missed</td>\n",
              "      <td>0.0</td>\n",
              "      <td>Y</td>\n",
              "    </tr>\n",
              "    <tr>\n",
              "      <th>...</th>\n",
              "      <td>...</td>\n",
              "      <td>...</td>\n",
              "      <td>...</td>\n",
              "      <td>...</td>\n",
              "      <td>...</td>\n",
              "      <td>...</td>\n",
              "      <td>...</td>\n",
              "      <td>...</td>\n",
              "      <td>...</td>\n",
              "      <td>...</td>\n",
              "      <td>...</td>\n",
              "      <td>...</td>\n",
              "      <td>...</td>\n",
              "      <td>...</td>\n",
              "    </tr>\n",
              "    <tr>\n",
              "      <th>445</th>\n",
              "      <td>N</td>\n",
              "      <td>Y</td>\n",
              "      <td>Symptomatic</td>\n",
              "      <td>Other</td>\n",
              "      <td>N</td>\n",
              "      <td>53.355</td>\n",
              "      <td>IV</td>\n",
              "      <td>0</td>\n",
              "      <td>III</td>\n",
              "      <td>1.20</td>\n",
              "      <td>Primary careacute</td>\n",
              "      <td>Missed</td>\n",
              "      <td>1.0</td>\n",
              "      <td>Y</td>\n",
              "    </tr>\n",
              "    <tr>\n",
              "      <th>446</th>\n",
              "      <td>N</td>\n",
              "      <td>Y</td>\n",
              "      <td>Symptomatic</td>\n",
              "      <td>Other</td>\n",
              "      <td>N</td>\n",
              "      <td>75.000</td>\n",
              "      <td>IV</td>\n",
              "      <td>0</td>\n",
              "      <td>IV</td>\n",
              "      <td>9.67</td>\n",
              "      <td>Primary careacute</td>\n",
              "      <td>Missed</td>\n",
              "      <td>0.0</td>\n",
              "      <td>Y</td>\n",
              "    </tr>\n",
              "    <tr>\n",
              "      <th>447</th>\n",
              "      <td>N</td>\n",
              "      <td>Y</td>\n",
              "      <td>Symptomatic</td>\n",
              "      <td>Other</td>\n",
              "      <td>N</td>\n",
              "      <td>63.000</td>\n",
              "      <td>IV</td>\n",
              "      <td>0</td>\n",
              "      <td>IV</td>\n",
              "      <td>1.47</td>\n",
              "      <td>Primary careacute</td>\n",
              "      <td>Missed</td>\n",
              "      <td>1.0</td>\n",
              "      <td>Y</td>\n",
              "    </tr>\n",
              "    <tr>\n",
              "      <th>448</th>\n",
              "      <td>N</td>\n",
              "      <td>Y</td>\n",
              "      <td>Symptomatic</td>\n",
              "      <td>Other</td>\n",
              "      <td>N</td>\n",
              "      <td>65.000</td>\n",
              "      <td>IV</td>\n",
              "      <td>0</td>\n",
              "      <td>IV</td>\n",
              "      <td>1.67</td>\n",
              "      <td>Primary careacute</td>\n",
              "      <td>Missed</td>\n",
              "      <td>2.0</td>\n",
              "      <td>Y</td>\n",
              "    </tr>\n",
              "    <tr>\n",
              "      <th>449</th>\n",
              "      <td>N</td>\n",
              "      <td>Y</td>\n",
              "      <td>Incidental</td>\n",
              "      <td>Other</td>\n",
              "      <td>N</td>\n",
              "      <td>45.000</td>\n",
              "      <td>IV</td>\n",
              "      <td>0</td>\n",
              "      <td>II</td>\n",
              "      <td>7.27</td>\n",
              "      <td>Primary careacute</td>\n",
              "      <td>Missed</td>\n",
              "      <td>2.0</td>\n",
              "      <td>Y</td>\n",
              "    </tr>\n",
              "  </tbody>\n",
              "</table>\n",
              "<p>450 rows × 14 columns</p>\n",
              "</div>\n",
              "      <button class=\"colab-df-convert\" onclick=\"convertToInteractive('df-8c5cab24-ed02-48d9-ab9d-8837383f3c75')\"\n",
              "              title=\"Convert this dataframe to an interactive table.\"\n",
              "              style=\"display:none;\">\n",
              "\n",
              "  <svg xmlns=\"http://www.w3.org/2000/svg\" height=\"24px\"viewBox=\"0 0 24 24\"\n",
              "       width=\"24px\">\n",
              "    <path d=\"M0 0h24v24H0V0z\" fill=\"none\"/>\n",
              "    <path d=\"M18.56 5.44l.94 2.06.94-2.06 2.06-.94-2.06-.94-.94-2.06-.94 2.06-2.06.94zm-11 1L8.5 8.5l.94-2.06 2.06-.94-2.06-.94L8.5 2.5l-.94 2.06-2.06.94zm10 10l.94 2.06.94-2.06 2.06-.94-2.06-.94-.94-2.06-.94 2.06-2.06.94z\"/><path d=\"M17.41 7.96l-1.37-1.37c-.4-.4-.92-.59-1.43-.59-.52 0-1.04.2-1.43.59L10.3 9.45l-7.72 7.72c-.78.78-.78 2.05 0 2.83L4 21.41c.39.39.9.59 1.41.59.51 0 1.02-.2 1.41-.59l7.78-7.78 2.81-2.81c.8-.78.8-2.07 0-2.86zM5.41 20L4 18.59l7.72-7.72 1.47 1.35L5.41 20z\"/>\n",
              "  </svg>\n",
              "      </button>\n",
              "\n",
              "\n",
              "\n",
              "    <div id=\"df-bb3c8139-2261-45d9-937b-5ec3ad090218\">\n",
              "      <button class=\"colab-df-quickchart\" onclick=\"quickchart('df-bb3c8139-2261-45d9-937b-5ec3ad090218')\"\n",
              "              title=\"Suggest charts.\"\n",
              "              style=\"display:none;\">\n",
              "\n",
              "<svg xmlns=\"http://www.w3.org/2000/svg\" height=\"24px\"viewBox=\"0 0 24 24\"\n",
              "     width=\"24px\">\n",
              "    <g>\n",
              "        <path d=\"M19 3H5c-1.1 0-2 .9-2 2v14c0 1.1.9 2 2 2h14c1.1 0 2-.9 2-2V5c0-1.1-.9-2-2-2zM9 17H7v-7h2v7zm4 0h-2V7h2v10zm4 0h-2v-4h2v4z\"/>\n",
              "    </g>\n",
              "</svg>\n",
              "      </button>\n",
              "    </div>\n",
              "\n",
              "<style>\n",
              "  .colab-df-quickchart {\n",
              "    background-color: #E8F0FE;\n",
              "    border: none;\n",
              "    border-radius: 50%;\n",
              "    cursor: pointer;\n",
              "    display: none;\n",
              "    fill: #1967D2;\n",
              "    height: 32px;\n",
              "    padding: 0 0 0 0;\n",
              "    width: 32px;\n",
              "  }\n",
              "\n",
              "  .colab-df-quickchart:hover {\n",
              "    background-color: #E2EBFA;\n",
              "    box-shadow: 0px 1px 2px rgba(60, 64, 67, 0.3), 0px 1px 3px 1px rgba(60, 64, 67, 0.15);\n",
              "    fill: #174EA6;\n",
              "  }\n",
              "\n",
              "  [theme=dark] .colab-df-quickchart {\n",
              "    background-color: #3B4455;\n",
              "    fill: #D2E3FC;\n",
              "  }\n",
              "\n",
              "  [theme=dark] .colab-df-quickchart:hover {\n",
              "    background-color: #434B5C;\n",
              "    box-shadow: 0px 1px 3px 1px rgba(0, 0, 0, 0.15);\n",
              "    filter: drop-shadow(0px 1px 2px rgba(0, 0, 0, 0.3));\n",
              "    fill: #FFFFFF;\n",
              "  }\n",
              "</style>\n",
              "\n",
              "    <script>\n",
              "      async function quickchart(key) {\n",
              "        const containerElement = document.querySelector('#' + key);\n",
              "        const charts = await google.colab.kernel.invokeFunction(\n",
              "            'suggestCharts', [key], {});\n",
              "      }\n",
              "    </script>\n",
              "\n",
              "\n",
              "      <script>\n",
              "\n",
              "function displayQuickchartButton(domScope) {\n",
              "  let quickchartButtonEl =\n",
              "    domScope.querySelector('#df-bb3c8139-2261-45d9-937b-5ec3ad090218 button.colab-df-quickchart');\n",
              "  quickchartButtonEl.style.display =\n",
              "    google.colab.kernel.accessAllowed ? 'block' : 'none';\n",
              "}\n",
              "\n",
              "        displayQuickchartButton(document);\n",
              "      </script>\n",
              "      <style>\n",
              "    .colab-df-container {\n",
              "      display:flex;\n",
              "      flex-wrap:wrap;\n",
              "      gap: 12px;\n",
              "    }\n",
              "\n",
              "    .colab-df-convert {\n",
              "      background-color: #E8F0FE;\n",
              "      border: none;\n",
              "      border-radius: 50%;\n",
              "      cursor: pointer;\n",
              "      display: none;\n",
              "      fill: #1967D2;\n",
              "      height: 32px;\n",
              "      padding: 0 0 0 0;\n",
              "      width: 32px;\n",
              "    }\n",
              "\n",
              "    .colab-df-convert:hover {\n",
              "      background-color: #E2EBFA;\n",
              "      box-shadow: 0px 1px 2px rgba(60, 64, 67, 0.3), 0px 1px 3px 1px rgba(60, 64, 67, 0.15);\n",
              "      fill: #174EA6;\n",
              "    }\n",
              "\n",
              "    [theme=dark] .colab-df-convert {\n",
              "      background-color: #3B4455;\n",
              "      fill: #D2E3FC;\n",
              "    }\n",
              "\n",
              "    [theme=dark] .colab-df-convert:hover {\n",
              "      background-color: #434B5C;\n",
              "      box-shadow: 0px 1px 3px 1px rgba(0, 0, 0, 0.15);\n",
              "      filter: drop-shadow(0px 1px 2px rgba(0, 0, 0, 0.3));\n",
              "      fill: #FFFFFF;\n",
              "    }\n",
              "  </style>\n",
              "\n",
              "      <script>\n",
              "        const buttonEl =\n",
              "          document.querySelector('#df-8c5cab24-ed02-48d9-ab9d-8837383f3c75 button.colab-df-convert');\n",
              "        buttonEl.style.display =\n",
              "          google.colab.kernel.accessAllowed ? 'block' : 'none';\n",
              "\n",
              "        async function convertToInteractive(key) {\n",
              "          const element = document.querySelector('#df-8c5cab24-ed02-48d9-ab9d-8837383f3c75');\n",
              "          const dataTable =\n",
              "            await google.colab.kernel.invokeFunction('convertToInteractive',\n",
              "                                                     [key], {});\n",
              "          if (!dataTable) return;\n",
              "\n",
              "          const docLinkHtml = 'Like what you see? Visit the ' +\n",
              "            '<a target=\"_blank\" href=https://colab.research.google.com/notebooks/data_table.ipynb>data table notebook</a>'\n",
              "            + ' to learn more about interactive tables.';\n",
              "          element.innerHTML = '';\n",
              "          dataTable['output_type'] = 'display_data';\n",
              "          await google.colab.output.renderOutput(dataTable, element);\n",
              "          const docLink = document.createElement('div');\n",
              "          docLink.innerHTML = docLinkHtml;\n",
              "          element.appendChild(docLink);\n",
              "        }\n",
              "      </script>\n",
              "    </div>\n",
              "  </div>\n"
            ]
          },
          "metadata": {},
          "execution_count": 33
        }
      ]
    },
    {
      "cell_type": "markdown",
      "source": [
        "# **Checking for the presence of any null value**"
      ],
      "metadata": {
        "id": "JD0aHkG5HVuB"
      }
    },
    {
      "cell_type": "code",
      "source": [
        "df1.isnull().sum()"
      ],
      "metadata": {
        "colab": {
          "base_uri": "https://localhost:8080/"
        },
        "id": "M32Zqd8CHU6Z",
        "outputId": "3823e9e8-27b6-46d8-f27b-daa5eed452c5"
      },
      "execution_count": null,
      "outputs": [
        {
          "output_type": "execute_result",
          "data": {
            "text/plain": [
              "Cancer                        0\n",
              "Bleed                         0\n",
              "Mode_Presentation             0\n",
              "Etiology                      0\n",
              "Cirrhosis                     0\n",
              "Size                          0\n",
              "HCC_TNM_Stage                 0\n",
              "HCC_BCLC_Stage                0\n",
              "ICC_TNM_Stage                 0\n",
              "Survival_fromMDM              0\n",
              "Type_of_incidental_finding    0\n",
              "Surveillance_effectiveness    0\n",
              "PS                            0\n",
              "Prev_known_cirrhosis          0\n",
              "dtype: int64"
            ]
          },
          "metadata": {},
          "execution_count": 34
        }
      ]
    },
    {
      "cell_type": "markdown",
      "source": [
        "# **Checking for the presence of any outliers in the data**"
      ],
      "metadata": {
        "id": "Ao_x9IcJMEeL"
      }
    },
    {
      "cell_type": "code",
      "source": [
        "def remove_outliers(df, column_name, threshold=3):\n",
        "    z_scores = np.abs((df[column_name] - df[column_name].mean()) / df[column_name].std())\n",
        "    df_filtered = df[z_scores <= threshold]\n",
        "    return df_filtered"
      ],
      "metadata": {
        "id": "5uQ9j48tMJRT"
      },
      "execution_count": null,
      "outputs": []
    },
    {
      "cell_type": "code",
      "source": [
        "df2=remove_outliers(df1,'Size')"
      ],
      "metadata": {
        "id": "A8Ed4UN0NeGj"
      },
      "execution_count": null,
      "outputs": []
    },
    {
      "cell_type": "code",
      "source": [
        "df3=remove_outliers(df2,'Survival_fromMDM')"
      ],
      "metadata": {
        "id": "gqruWgQfNqL0"
      },
      "execution_count": null,
      "outputs": []
    },
    {
      "cell_type": "code",
      "source": [
        "df3"
      ],
      "metadata": {
        "id": "5Htb6-KxODg8",
        "colab": {
          "base_uri": "https://localhost:8080/",
          "height": 487
        },
        "outputId": "c3071cde-85a3-424e-9d23-0ddb4b45d430"
      },
      "execution_count": null,
      "outputs": [
        {
          "output_type": "execute_result",
          "data": {
            "text/plain": [
              "    Cancer Bleed Mode_Presentation Etiology Cirrhosis    Size HCC_TNM_Stage  \\\n",
              "0        Y     N      Surveillance    NAFLD         Y  22.000            II   \n",
              "1        Y     N      Surveillance     ARLD         Y  40.000             I   \n",
              "2        Y     N      Surveillance     ARLD         Y  52.000            IV   \n",
              "3        Y     N        Incidental     ARLD         Y  80.000            IV   \n",
              "4        Y     N        Incidental     ARLD         Y  60.000             I   \n",
              "..     ...   ...               ...      ...       ...     ...           ...   \n",
              "445      N     Y       Symptomatic    Other         N  53.355            IV   \n",
              "446      N     Y       Symptomatic    Other         N  75.000            IV   \n",
              "447      N     Y       Symptomatic    Other         N  63.000            IV   \n",
              "448      N     Y       Symptomatic    Other         N  65.000            IV   \n",
              "449      N     Y        Incidental    Other         N  45.000            IV   \n",
              "\n",
              "    HCC_BCLC_Stage ICC_TNM_Stage  Survival_fromMDM Type_of_incidental_finding  \\\n",
              "0                A             I             32.73         Primary careacute   \n",
              "1                D             I              3.03         Primary careacute   \n",
              "2                B             I             14.97         Primary careacute   \n",
              "3                C             I              1.40       Secondary careacute   \n",
              "4                0             I             32.50       Secondary careacute   \n",
              "..             ...           ...               ...                        ...   \n",
              "445              0           III              1.20         Primary careacute   \n",
              "446              0            IV              9.67         Primary careacute   \n",
              "447              0            IV              1.47         Primary careacute   \n",
              "448              0            IV              1.67         Primary careacute   \n",
              "449              0            II              7.27         Primary careacute   \n",
              "\n",
              "    Surveillance_effectiveness   PS Prev_known_cirrhosis  \n",
              "0                   Consistent  0.0                    Y  \n",
              "1                   Consistent  2.0                    Y  \n",
              "2                   Consistent  0.0                    Y  \n",
              "3                       Missed  2.0                    Y  \n",
              "4                       Missed  0.0                    Y  \n",
              "..                         ...  ...                  ...  \n",
              "445                     Missed  1.0                    Y  \n",
              "446                     Missed  0.0                    Y  \n",
              "447                     Missed  1.0                    Y  \n",
              "448                     Missed  2.0                    Y  \n",
              "449                     Missed  2.0                    Y  \n",
              "\n",
              "[440 rows x 14 columns]"
            ],
            "text/html": [
              "\n",
              "\n",
              "  <div id=\"df-76a98d05-fbe7-4503-b140-33bffbaef7ea\">\n",
              "    <div class=\"colab-df-container\">\n",
              "      <div>\n",
              "<style scoped>\n",
              "    .dataframe tbody tr th:only-of-type {\n",
              "        vertical-align: middle;\n",
              "    }\n",
              "\n",
              "    .dataframe tbody tr th {\n",
              "        vertical-align: top;\n",
              "    }\n",
              "\n",
              "    .dataframe thead th {\n",
              "        text-align: right;\n",
              "    }\n",
              "</style>\n",
              "<table border=\"1\" class=\"dataframe\">\n",
              "  <thead>\n",
              "    <tr style=\"text-align: right;\">\n",
              "      <th></th>\n",
              "      <th>Cancer</th>\n",
              "      <th>Bleed</th>\n",
              "      <th>Mode_Presentation</th>\n",
              "      <th>Etiology</th>\n",
              "      <th>Cirrhosis</th>\n",
              "      <th>Size</th>\n",
              "      <th>HCC_TNM_Stage</th>\n",
              "      <th>HCC_BCLC_Stage</th>\n",
              "      <th>ICC_TNM_Stage</th>\n",
              "      <th>Survival_fromMDM</th>\n",
              "      <th>Type_of_incidental_finding</th>\n",
              "      <th>Surveillance_effectiveness</th>\n",
              "      <th>PS</th>\n",
              "      <th>Prev_known_cirrhosis</th>\n",
              "    </tr>\n",
              "  </thead>\n",
              "  <tbody>\n",
              "    <tr>\n",
              "      <th>0</th>\n",
              "      <td>Y</td>\n",
              "      <td>N</td>\n",
              "      <td>Surveillance</td>\n",
              "      <td>NAFLD</td>\n",
              "      <td>Y</td>\n",
              "      <td>22.000</td>\n",
              "      <td>II</td>\n",
              "      <td>A</td>\n",
              "      <td>I</td>\n",
              "      <td>32.73</td>\n",
              "      <td>Primary careacute</td>\n",
              "      <td>Consistent</td>\n",
              "      <td>0.0</td>\n",
              "      <td>Y</td>\n",
              "    </tr>\n",
              "    <tr>\n",
              "      <th>1</th>\n",
              "      <td>Y</td>\n",
              "      <td>N</td>\n",
              "      <td>Surveillance</td>\n",
              "      <td>ARLD</td>\n",
              "      <td>Y</td>\n",
              "      <td>40.000</td>\n",
              "      <td>I</td>\n",
              "      <td>D</td>\n",
              "      <td>I</td>\n",
              "      <td>3.03</td>\n",
              "      <td>Primary careacute</td>\n",
              "      <td>Consistent</td>\n",
              "      <td>2.0</td>\n",
              "      <td>Y</td>\n",
              "    </tr>\n",
              "    <tr>\n",
              "      <th>2</th>\n",
              "      <td>Y</td>\n",
              "      <td>N</td>\n",
              "      <td>Surveillance</td>\n",
              "      <td>ARLD</td>\n",
              "      <td>Y</td>\n",
              "      <td>52.000</td>\n",
              "      <td>IV</td>\n",
              "      <td>B</td>\n",
              "      <td>I</td>\n",
              "      <td>14.97</td>\n",
              "      <td>Primary careacute</td>\n",
              "      <td>Consistent</td>\n",
              "      <td>0.0</td>\n",
              "      <td>Y</td>\n",
              "    </tr>\n",
              "    <tr>\n",
              "      <th>3</th>\n",
              "      <td>Y</td>\n",
              "      <td>N</td>\n",
              "      <td>Incidental</td>\n",
              "      <td>ARLD</td>\n",
              "      <td>Y</td>\n",
              "      <td>80.000</td>\n",
              "      <td>IV</td>\n",
              "      <td>C</td>\n",
              "      <td>I</td>\n",
              "      <td>1.40</td>\n",
              "      <td>Secondary careacute</td>\n",
              "      <td>Missed</td>\n",
              "      <td>2.0</td>\n",
              "      <td>Y</td>\n",
              "    </tr>\n",
              "    <tr>\n",
              "      <th>4</th>\n",
              "      <td>Y</td>\n",
              "      <td>N</td>\n",
              "      <td>Incidental</td>\n",
              "      <td>ARLD</td>\n",
              "      <td>Y</td>\n",
              "      <td>60.000</td>\n",
              "      <td>I</td>\n",
              "      <td>0</td>\n",
              "      <td>I</td>\n",
              "      <td>32.50</td>\n",
              "      <td>Secondary careacute</td>\n",
              "      <td>Missed</td>\n",
              "      <td>0.0</td>\n",
              "      <td>Y</td>\n",
              "    </tr>\n",
              "    <tr>\n",
              "      <th>...</th>\n",
              "      <td>...</td>\n",
              "      <td>...</td>\n",
              "      <td>...</td>\n",
              "      <td>...</td>\n",
              "      <td>...</td>\n",
              "      <td>...</td>\n",
              "      <td>...</td>\n",
              "      <td>...</td>\n",
              "      <td>...</td>\n",
              "      <td>...</td>\n",
              "      <td>...</td>\n",
              "      <td>...</td>\n",
              "      <td>...</td>\n",
              "      <td>...</td>\n",
              "    </tr>\n",
              "    <tr>\n",
              "      <th>445</th>\n",
              "      <td>N</td>\n",
              "      <td>Y</td>\n",
              "      <td>Symptomatic</td>\n",
              "      <td>Other</td>\n",
              "      <td>N</td>\n",
              "      <td>53.355</td>\n",
              "      <td>IV</td>\n",
              "      <td>0</td>\n",
              "      <td>III</td>\n",
              "      <td>1.20</td>\n",
              "      <td>Primary careacute</td>\n",
              "      <td>Missed</td>\n",
              "      <td>1.0</td>\n",
              "      <td>Y</td>\n",
              "    </tr>\n",
              "    <tr>\n",
              "      <th>446</th>\n",
              "      <td>N</td>\n",
              "      <td>Y</td>\n",
              "      <td>Symptomatic</td>\n",
              "      <td>Other</td>\n",
              "      <td>N</td>\n",
              "      <td>75.000</td>\n",
              "      <td>IV</td>\n",
              "      <td>0</td>\n",
              "      <td>IV</td>\n",
              "      <td>9.67</td>\n",
              "      <td>Primary careacute</td>\n",
              "      <td>Missed</td>\n",
              "      <td>0.0</td>\n",
              "      <td>Y</td>\n",
              "    </tr>\n",
              "    <tr>\n",
              "      <th>447</th>\n",
              "      <td>N</td>\n",
              "      <td>Y</td>\n",
              "      <td>Symptomatic</td>\n",
              "      <td>Other</td>\n",
              "      <td>N</td>\n",
              "      <td>63.000</td>\n",
              "      <td>IV</td>\n",
              "      <td>0</td>\n",
              "      <td>IV</td>\n",
              "      <td>1.47</td>\n",
              "      <td>Primary careacute</td>\n",
              "      <td>Missed</td>\n",
              "      <td>1.0</td>\n",
              "      <td>Y</td>\n",
              "    </tr>\n",
              "    <tr>\n",
              "      <th>448</th>\n",
              "      <td>N</td>\n",
              "      <td>Y</td>\n",
              "      <td>Symptomatic</td>\n",
              "      <td>Other</td>\n",
              "      <td>N</td>\n",
              "      <td>65.000</td>\n",
              "      <td>IV</td>\n",
              "      <td>0</td>\n",
              "      <td>IV</td>\n",
              "      <td>1.67</td>\n",
              "      <td>Primary careacute</td>\n",
              "      <td>Missed</td>\n",
              "      <td>2.0</td>\n",
              "      <td>Y</td>\n",
              "    </tr>\n",
              "    <tr>\n",
              "      <th>449</th>\n",
              "      <td>N</td>\n",
              "      <td>Y</td>\n",
              "      <td>Incidental</td>\n",
              "      <td>Other</td>\n",
              "      <td>N</td>\n",
              "      <td>45.000</td>\n",
              "      <td>IV</td>\n",
              "      <td>0</td>\n",
              "      <td>II</td>\n",
              "      <td>7.27</td>\n",
              "      <td>Primary careacute</td>\n",
              "      <td>Missed</td>\n",
              "      <td>2.0</td>\n",
              "      <td>Y</td>\n",
              "    </tr>\n",
              "  </tbody>\n",
              "</table>\n",
              "<p>440 rows × 14 columns</p>\n",
              "</div>\n",
              "      <button class=\"colab-df-convert\" onclick=\"convertToInteractive('df-76a98d05-fbe7-4503-b140-33bffbaef7ea')\"\n",
              "              title=\"Convert this dataframe to an interactive table.\"\n",
              "              style=\"display:none;\">\n",
              "\n",
              "  <svg xmlns=\"http://www.w3.org/2000/svg\" height=\"24px\"viewBox=\"0 0 24 24\"\n",
              "       width=\"24px\">\n",
              "    <path d=\"M0 0h24v24H0V0z\" fill=\"none\"/>\n",
              "    <path d=\"M18.56 5.44l.94 2.06.94-2.06 2.06-.94-2.06-.94-.94-2.06-.94 2.06-2.06.94zm-11 1L8.5 8.5l.94-2.06 2.06-.94-2.06-.94L8.5 2.5l-.94 2.06-2.06.94zm10 10l.94 2.06.94-2.06 2.06-.94-2.06-.94-.94-2.06-.94 2.06-2.06.94z\"/><path d=\"M17.41 7.96l-1.37-1.37c-.4-.4-.92-.59-1.43-.59-.52 0-1.04.2-1.43.59L10.3 9.45l-7.72 7.72c-.78.78-.78 2.05 0 2.83L4 21.41c.39.39.9.59 1.41.59.51 0 1.02-.2 1.41-.59l7.78-7.78 2.81-2.81c.8-.78.8-2.07 0-2.86zM5.41 20L4 18.59l7.72-7.72 1.47 1.35L5.41 20z\"/>\n",
              "  </svg>\n",
              "      </button>\n",
              "\n",
              "\n",
              "\n",
              "    <div id=\"df-23ceb16e-3f2e-406b-a39a-b4602371027f\">\n",
              "      <button class=\"colab-df-quickchart\" onclick=\"quickchart('df-23ceb16e-3f2e-406b-a39a-b4602371027f')\"\n",
              "              title=\"Suggest charts.\"\n",
              "              style=\"display:none;\">\n",
              "\n",
              "<svg xmlns=\"http://www.w3.org/2000/svg\" height=\"24px\"viewBox=\"0 0 24 24\"\n",
              "     width=\"24px\">\n",
              "    <g>\n",
              "        <path d=\"M19 3H5c-1.1 0-2 .9-2 2v14c0 1.1.9 2 2 2h14c1.1 0 2-.9 2-2V5c0-1.1-.9-2-2-2zM9 17H7v-7h2v7zm4 0h-2V7h2v10zm4 0h-2v-4h2v4z\"/>\n",
              "    </g>\n",
              "</svg>\n",
              "      </button>\n",
              "    </div>\n",
              "\n",
              "<style>\n",
              "  .colab-df-quickchart {\n",
              "    background-color: #E8F0FE;\n",
              "    border: none;\n",
              "    border-radius: 50%;\n",
              "    cursor: pointer;\n",
              "    display: none;\n",
              "    fill: #1967D2;\n",
              "    height: 32px;\n",
              "    padding: 0 0 0 0;\n",
              "    width: 32px;\n",
              "  }\n",
              "\n",
              "  .colab-df-quickchart:hover {\n",
              "    background-color: #E2EBFA;\n",
              "    box-shadow: 0px 1px 2px rgba(60, 64, 67, 0.3), 0px 1px 3px 1px rgba(60, 64, 67, 0.15);\n",
              "    fill: #174EA6;\n",
              "  }\n",
              "\n",
              "  [theme=dark] .colab-df-quickchart {\n",
              "    background-color: #3B4455;\n",
              "    fill: #D2E3FC;\n",
              "  }\n",
              "\n",
              "  [theme=dark] .colab-df-quickchart:hover {\n",
              "    background-color: #434B5C;\n",
              "    box-shadow: 0px 1px 3px 1px rgba(0, 0, 0, 0.15);\n",
              "    filter: drop-shadow(0px 1px 2px rgba(0, 0, 0, 0.3));\n",
              "    fill: #FFFFFF;\n",
              "  }\n",
              "</style>\n",
              "\n",
              "    <script>\n",
              "      async function quickchart(key) {\n",
              "        const containerElement = document.querySelector('#' + key);\n",
              "        const charts = await google.colab.kernel.invokeFunction(\n",
              "            'suggestCharts', [key], {});\n",
              "      }\n",
              "    </script>\n",
              "\n",
              "\n",
              "      <script>\n",
              "\n",
              "function displayQuickchartButton(domScope) {\n",
              "  let quickchartButtonEl =\n",
              "    domScope.querySelector('#df-23ceb16e-3f2e-406b-a39a-b4602371027f button.colab-df-quickchart');\n",
              "  quickchartButtonEl.style.display =\n",
              "    google.colab.kernel.accessAllowed ? 'block' : 'none';\n",
              "}\n",
              "\n",
              "        displayQuickchartButton(document);\n",
              "      </script>\n",
              "      <style>\n",
              "    .colab-df-container {\n",
              "      display:flex;\n",
              "      flex-wrap:wrap;\n",
              "      gap: 12px;\n",
              "    }\n",
              "\n",
              "    .colab-df-convert {\n",
              "      background-color: #E8F0FE;\n",
              "      border: none;\n",
              "      border-radius: 50%;\n",
              "      cursor: pointer;\n",
              "      display: none;\n",
              "      fill: #1967D2;\n",
              "      height: 32px;\n",
              "      padding: 0 0 0 0;\n",
              "      width: 32px;\n",
              "    }\n",
              "\n",
              "    .colab-df-convert:hover {\n",
              "      background-color: #E2EBFA;\n",
              "      box-shadow: 0px 1px 2px rgba(60, 64, 67, 0.3), 0px 1px 3px 1px rgba(60, 64, 67, 0.15);\n",
              "      fill: #174EA6;\n",
              "    }\n",
              "\n",
              "    [theme=dark] .colab-df-convert {\n",
              "      background-color: #3B4455;\n",
              "      fill: #D2E3FC;\n",
              "    }\n",
              "\n",
              "    [theme=dark] .colab-df-convert:hover {\n",
              "      background-color: #434B5C;\n",
              "      box-shadow: 0px 1px 3px 1px rgba(0, 0, 0, 0.15);\n",
              "      filter: drop-shadow(0px 1px 2px rgba(0, 0, 0, 0.3));\n",
              "      fill: #FFFFFF;\n",
              "    }\n",
              "  </style>\n",
              "\n",
              "      <script>\n",
              "        const buttonEl =\n",
              "          document.querySelector('#df-76a98d05-fbe7-4503-b140-33bffbaef7ea button.colab-df-convert');\n",
              "        buttonEl.style.display =\n",
              "          google.colab.kernel.accessAllowed ? 'block' : 'none';\n",
              "\n",
              "        async function convertToInteractive(key) {\n",
              "          const element = document.querySelector('#df-76a98d05-fbe7-4503-b140-33bffbaef7ea');\n",
              "          const dataTable =\n",
              "            await google.colab.kernel.invokeFunction('convertToInteractive',\n",
              "                                                     [key], {});\n",
              "          if (!dataTable) return;\n",
              "\n",
              "          const docLinkHtml = 'Like what you see? Visit the ' +\n",
              "            '<a target=\"_blank\" href=https://colab.research.google.com/notebooks/data_table.ipynb>data table notebook</a>'\n",
              "            + ' to learn more about interactive tables.';\n",
              "          element.innerHTML = '';\n",
              "          dataTable['output_type'] = 'display_data';\n",
              "          await google.colab.output.renderOutput(dataTable, element);\n",
              "          const docLink = document.createElement('div');\n",
              "          docLink.innerHTML = docLinkHtml;\n",
              "          element.appendChild(docLink);\n",
              "        }\n",
              "      </script>\n",
              "    </div>\n",
              "  </div>\n"
            ]
          },
          "metadata": {},
          "execution_count": 38
        }
      ]
    },
    {
      "cell_type": "markdown",
      "source": [
        "# **Removing the next set of unnecessary columns**"
      ],
      "metadata": {
        "id": "afGVfKpwO-1S"
      }
    },
    {
      "cell_type": "code",
      "source": [
        "df4=df3.drop(['Mode_Presentation','Etiology','HCC_BCLC_Stage','Type_of_incidental_finding'],axis='columns')"
      ],
      "metadata": {
        "id": "bNNxO2FuPHCR"
      },
      "execution_count": null,
      "outputs": []
    },
    {
      "cell_type": "markdown",
      "source": [
        "# **Encoding the required variables**"
      ],
      "metadata": {
        "id": "ykidu218MEvZ"
      }
    },
    {
      "cell_type": "code",
      "source": [
        "from sklearn.preprocessing import LabelEncoder\n",
        "le_encode=LabelEncoder()"
      ],
      "metadata": {
        "id": "Inojfd30MJES"
      },
      "execution_count": null,
      "outputs": []
    },
    {
      "cell_type": "code",
      "source": [
        "df4.Cancer=le_encode.fit_transform(df4.Cancer)"
      ],
      "metadata": {
        "id": "5jiWs1h9MVjo"
      },
      "execution_count": null,
      "outputs": []
    },
    {
      "cell_type": "code",
      "source": [
        "df4.Cirrhosis=le_encode.fit_transform(df4.Cirrhosis)"
      ],
      "metadata": {
        "id": "FnGSwQM6M2kx"
      },
      "execution_count": null,
      "outputs": []
    },
    {
      "cell_type": "code",
      "source": [
        "df4.Prev_known_cirrhosis=le_encode.fit_transform(df4.Prev_known_cirrhosis)"
      ],
      "metadata": {
        "id": "ypN_Z_ufNAUJ"
      },
      "execution_count": null,
      "outputs": []
    },
    {
      "cell_type": "code",
      "source": [
        "df4.Bleed=le_encode.fit_transform(df4.Bleed)"
      ],
      "metadata": {
        "id": "PdEs9RZ2nUBA"
      },
      "execution_count": null,
      "outputs": []
    },
    {
      "cell_type": "code",
      "source": [
        "df4.HCC_TNM_Stage=le_encode.fit_transform(df4.HCC_TNM_Stage)"
      ],
      "metadata": {
        "id": "T1L9w9bCndYY"
      },
      "execution_count": null,
      "outputs": []
    },
    {
      "cell_type": "code",
      "source": [
        "df4.ICC_TNM_Stage=le_encode.fit_transform(df4.ICC_TNM_Stage)"
      ],
      "metadata": {
        "id": "JksvoDSDoCc4"
      },
      "execution_count": null,
      "outputs": []
    },
    {
      "cell_type": "code",
      "source": [
        "df4.Surveillance_effectiveness=le_encode.fit_transform(df4.Surveillance_effectiveness)"
      ],
      "metadata": {
        "id": "3AHjV500oLD6"
      },
      "execution_count": null,
      "outputs": []
    },
    {
      "cell_type": "code",
      "source": [
        "df4"
      ],
      "metadata": {
        "colab": {
          "base_uri": "https://localhost:8080/",
          "height": 467
        },
        "id": "QN3YHclMMp1q",
        "outputId": "d1820e7a-9df7-44ae-e648-9929c8e6523d"
      },
      "execution_count": null,
      "outputs": [
        {
          "output_type": "execute_result",
          "data": {
            "text/plain": [
              "     Cancer  Bleed  Cirrhosis    Size  HCC_TNM_Stage  ICC_TNM_Stage  \\\n",
              "0         1      0          1  22.000              1              0   \n",
              "1         1      0          1  40.000              0              0   \n",
              "2         1      0          1  52.000              3              0   \n",
              "3         1      0          1  80.000              3              0   \n",
              "4         1      0          1  60.000              0              0   \n",
              "..      ...    ...        ...     ...            ...            ...   \n",
              "445       0      1          0  53.355              3              2   \n",
              "446       0      1          0  75.000              3              3   \n",
              "447       0      1          0  63.000              3              3   \n",
              "448       0      1          0  65.000              3              3   \n",
              "449       0      1          0  45.000              3              1   \n",
              "\n",
              "     Survival_fromMDM  Surveillance_effectiveness   PS  Prev_known_cirrhosis  \n",
              "0               32.73                           0  0.0                     1  \n",
              "1                3.03                           0  2.0                     1  \n",
              "2               14.97                           0  0.0                     1  \n",
              "3                1.40                           2  2.0                     1  \n",
              "4               32.50                           2  0.0                     1  \n",
              "..                ...                         ...  ...                   ...  \n",
              "445              1.20                           2  1.0                     1  \n",
              "446              9.67                           2  0.0                     1  \n",
              "447              1.47                           2  1.0                     1  \n",
              "448              1.67                           2  2.0                     1  \n",
              "449              7.27                           2  2.0                     1  \n",
              "\n",
              "[440 rows x 10 columns]"
            ],
            "text/html": [
              "\n",
              "\n",
              "  <div id=\"df-51d0dcd0-7a35-4e34-8e27-c771f4822c38\">\n",
              "    <div class=\"colab-df-container\">\n",
              "      <div>\n",
              "<style scoped>\n",
              "    .dataframe tbody tr th:only-of-type {\n",
              "        vertical-align: middle;\n",
              "    }\n",
              "\n",
              "    .dataframe tbody tr th {\n",
              "        vertical-align: top;\n",
              "    }\n",
              "\n",
              "    .dataframe thead th {\n",
              "        text-align: right;\n",
              "    }\n",
              "</style>\n",
              "<table border=\"1\" class=\"dataframe\">\n",
              "  <thead>\n",
              "    <tr style=\"text-align: right;\">\n",
              "      <th></th>\n",
              "      <th>Cancer</th>\n",
              "      <th>Bleed</th>\n",
              "      <th>Cirrhosis</th>\n",
              "      <th>Size</th>\n",
              "      <th>HCC_TNM_Stage</th>\n",
              "      <th>ICC_TNM_Stage</th>\n",
              "      <th>Survival_fromMDM</th>\n",
              "      <th>Surveillance_effectiveness</th>\n",
              "      <th>PS</th>\n",
              "      <th>Prev_known_cirrhosis</th>\n",
              "    </tr>\n",
              "  </thead>\n",
              "  <tbody>\n",
              "    <tr>\n",
              "      <th>0</th>\n",
              "      <td>1</td>\n",
              "      <td>0</td>\n",
              "      <td>1</td>\n",
              "      <td>22.000</td>\n",
              "      <td>1</td>\n",
              "      <td>0</td>\n",
              "      <td>32.73</td>\n",
              "      <td>0</td>\n",
              "      <td>0.0</td>\n",
              "      <td>1</td>\n",
              "    </tr>\n",
              "    <tr>\n",
              "      <th>1</th>\n",
              "      <td>1</td>\n",
              "      <td>0</td>\n",
              "      <td>1</td>\n",
              "      <td>40.000</td>\n",
              "      <td>0</td>\n",
              "      <td>0</td>\n",
              "      <td>3.03</td>\n",
              "      <td>0</td>\n",
              "      <td>2.0</td>\n",
              "      <td>1</td>\n",
              "    </tr>\n",
              "    <tr>\n",
              "      <th>2</th>\n",
              "      <td>1</td>\n",
              "      <td>0</td>\n",
              "      <td>1</td>\n",
              "      <td>52.000</td>\n",
              "      <td>3</td>\n",
              "      <td>0</td>\n",
              "      <td>14.97</td>\n",
              "      <td>0</td>\n",
              "      <td>0.0</td>\n",
              "      <td>1</td>\n",
              "    </tr>\n",
              "    <tr>\n",
              "      <th>3</th>\n",
              "      <td>1</td>\n",
              "      <td>0</td>\n",
              "      <td>1</td>\n",
              "      <td>80.000</td>\n",
              "      <td>3</td>\n",
              "      <td>0</td>\n",
              "      <td>1.40</td>\n",
              "      <td>2</td>\n",
              "      <td>2.0</td>\n",
              "      <td>1</td>\n",
              "    </tr>\n",
              "    <tr>\n",
              "      <th>4</th>\n",
              "      <td>1</td>\n",
              "      <td>0</td>\n",
              "      <td>1</td>\n",
              "      <td>60.000</td>\n",
              "      <td>0</td>\n",
              "      <td>0</td>\n",
              "      <td>32.50</td>\n",
              "      <td>2</td>\n",
              "      <td>0.0</td>\n",
              "      <td>1</td>\n",
              "    </tr>\n",
              "    <tr>\n",
              "      <th>...</th>\n",
              "      <td>...</td>\n",
              "      <td>...</td>\n",
              "      <td>...</td>\n",
              "      <td>...</td>\n",
              "      <td>...</td>\n",
              "      <td>...</td>\n",
              "      <td>...</td>\n",
              "      <td>...</td>\n",
              "      <td>...</td>\n",
              "      <td>...</td>\n",
              "    </tr>\n",
              "    <tr>\n",
              "      <th>445</th>\n",
              "      <td>0</td>\n",
              "      <td>1</td>\n",
              "      <td>0</td>\n",
              "      <td>53.355</td>\n",
              "      <td>3</td>\n",
              "      <td>2</td>\n",
              "      <td>1.20</td>\n",
              "      <td>2</td>\n",
              "      <td>1.0</td>\n",
              "      <td>1</td>\n",
              "    </tr>\n",
              "    <tr>\n",
              "      <th>446</th>\n",
              "      <td>0</td>\n",
              "      <td>1</td>\n",
              "      <td>0</td>\n",
              "      <td>75.000</td>\n",
              "      <td>3</td>\n",
              "      <td>3</td>\n",
              "      <td>9.67</td>\n",
              "      <td>2</td>\n",
              "      <td>0.0</td>\n",
              "      <td>1</td>\n",
              "    </tr>\n",
              "    <tr>\n",
              "      <th>447</th>\n",
              "      <td>0</td>\n",
              "      <td>1</td>\n",
              "      <td>0</td>\n",
              "      <td>63.000</td>\n",
              "      <td>3</td>\n",
              "      <td>3</td>\n",
              "      <td>1.47</td>\n",
              "      <td>2</td>\n",
              "      <td>1.0</td>\n",
              "      <td>1</td>\n",
              "    </tr>\n",
              "    <tr>\n",
              "      <th>448</th>\n",
              "      <td>0</td>\n",
              "      <td>1</td>\n",
              "      <td>0</td>\n",
              "      <td>65.000</td>\n",
              "      <td>3</td>\n",
              "      <td>3</td>\n",
              "      <td>1.67</td>\n",
              "      <td>2</td>\n",
              "      <td>2.0</td>\n",
              "      <td>1</td>\n",
              "    </tr>\n",
              "    <tr>\n",
              "      <th>449</th>\n",
              "      <td>0</td>\n",
              "      <td>1</td>\n",
              "      <td>0</td>\n",
              "      <td>45.000</td>\n",
              "      <td>3</td>\n",
              "      <td>1</td>\n",
              "      <td>7.27</td>\n",
              "      <td>2</td>\n",
              "      <td>2.0</td>\n",
              "      <td>1</td>\n",
              "    </tr>\n",
              "  </tbody>\n",
              "</table>\n",
              "<p>440 rows × 10 columns</p>\n",
              "</div>\n",
              "      <button class=\"colab-df-convert\" onclick=\"convertToInteractive('df-51d0dcd0-7a35-4e34-8e27-c771f4822c38')\"\n",
              "              title=\"Convert this dataframe to an interactive table.\"\n",
              "              style=\"display:none;\">\n",
              "\n",
              "  <svg xmlns=\"http://www.w3.org/2000/svg\" height=\"24px\"viewBox=\"0 0 24 24\"\n",
              "       width=\"24px\">\n",
              "    <path d=\"M0 0h24v24H0V0z\" fill=\"none\"/>\n",
              "    <path d=\"M18.56 5.44l.94 2.06.94-2.06 2.06-.94-2.06-.94-.94-2.06-.94 2.06-2.06.94zm-11 1L8.5 8.5l.94-2.06 2.06-.94-2.06-.94L8.5 2.5l-.94 2.06-2.06.94zm10 10l.94 2.06.94-2.06 2.06-.94-2.06-.94-.94-2.06-.94 2.06-2.06.94z\"/><path d=\"M17.41 7.96l-1.37-1.37c-.4-.4-.92-.59-1.43-.59-.52 0-1.04.2-1.43.59L10.3 9.45l-7.72 7.72c-.78.78-.78 2.05 0 2.83L4 21.41c.39.39.9.59 1.41.59.51 0 1.02-.2 1.41-.59l7.78-7.78 2.81-2.81c.8-.78.8-2.07 0-2.86zM5.41 20L4 18.59l7.72-7.72 1.47 1.35L5.41 20z\"/>\n",
              "  </svg>\n",
              "      </button>\n",
              "\n",
              "\n",
              "\n",
              "    <div id=\"df-d7fd74d6-a720-4252-9a9a-962b972ebbcc\">\n",
              "      <button class=\"colab-df-quickchart\" onclick=\"quickchart('df-d7fd74d6-a720-4252-9a9a-962b972ebbcc')\"\n",
              "              title=\"Suggest charts.\"\n",
              "              style=\"display:none;\">\n",
              "\n",
              "<svg xmlns=\"http://www.w3.org/2000/svg\" height=\"24px\"viewBox=\"0 0 24 24\"\n",
              "     width=\"24px\">\n",
              "    <g>\n",
              "        <path d=\"M19 3H5c-1.1 0-2 .9-2 2v14c0 1.1.9 2 2 2h14c1.1 0 2-.9 2-2V5c0-1.1-.9-2-2-2zM9 17H7v-7h2v7zm4 0h-2V7h2v10zm4 0h-2v-4h2v4z\"/>\n",
              "    </g>\n",
              "</svg>\n",
              "      </button>\n",
              "    </div>\n",
              "\n",
              "<style>\n",
              "  .colab-df-quickchart {\n",
              "    background-color: #E8F0FE;\n",
              "    border: none;\n",
              "    border-radius: 50%;\n",
              "    cursor: pointer;\n",
              "    display: none;\n",
              "    fill: #1967D2;\n",
              "    height: 32px;\n",
              "    padding: 0 0 0 0;\n",
              "    width: 32px;\n",
              "  }\n",
              "\n",
              "  .colab-df-quickchart:hover {\n",
              "    background-color: #E2EBFA;\n",
              "    box-shadow: 0px 1px 2px rgba(60, 64, 67, 0.3), 0px 1px 3px 1px rgba(60, 64, 67, 0.15);\n",
              "    fill: #174EA6;\n",
              "  }\n",
              "\n",
              "  [theme=dark] .colab-df-quickchart {\n",
              "    background-color: #3B4455;\n",
              "    fill: #D2E3FC;\n",
              "  }\n",
              "\n",
              "  [theme=dark] .colab-df-quickchart:hover {\n",
              "    background-color: #434B5C;\n",
              "    box-shadow: 0px 1px 3px 1px rgba(0, 0, 0, 0.15);\n",
              "    filter: drop-shadow(0px 1px 2px rgba(0, 0, 0, 0.3));\n",
              "    fill: #FFFFFF;\n",
              "  }\n",
              "</style>\n",
              "\n",
              "    <script>\n",
              "      async function quickchart(key) {\n",
              "        const containerElement = document.querySelector('#' + key);\n",
              "        const charts = await google.colab.kernel.invokeFunction(\n",
              "            'suggestCharts', [key], {});\n",
              "      }\n",
              "    </script>\n",
              "\n",
              "\n",
              "      <script>\n",
              "\n",
              "function displayQuickchartButton(domScope) {\n",
              "  let quickchartButtonEl =\n",
              "    domScope.querySelector('#df-d7fd74d6-a720-4252-9a9a-962b972ebbcc button.colab-df-quickchart');\n",
              "  quickchartButtonEl.style.display =\n",
              "    google.colab.kernel.accessAllowed ? 'block' : 'none';\n",
              "}\n",
              "\n",
              "        displayQuickchartButton(document);\n",
              "      </script>\n",
              "      <style>\n",
              "    .colab-df-container {\n",
              "      display:flex;\n",
              "      flex-wrap:wrap;\n",
              "      gap: 12px;\n",
              "    }\n",
              "\n",
              "    .colab-df-convert {\n",
              "      background-color: #E8F0FE;\n",
              "      border: none;\n",
              "      border-radius: 50%;\n",
              "      cursor: pointer;\n",
              "      display: none;\n",
              "      fill: #1967D2;\n",
              "      height: 32px;\n",
              "      padding: 0 0 0 0;\n",
              "      width: 32px;\n",
              "    }\n",
              "\n",
              "    .colab-df-convert:hover {\n",
              "      background-color: #E2EBFA;\n",
              "      box-shadow: 0px 1px 2px rgba(60, 64, 67, 0.3), 0px 1px 3px 1px rgba(60, 64, 67, 0.15);\n",
              "      fill: #174EA6;\n",
              "    }\n",
              "\n",
              "    [theme=dark] .colab-df-convert {\n",
              "      background-color: #3B4455;\n",
              "      fill: #D2E3FC;\n",
              "    }\n",
              "\n",
              "    [theme=dark] .colab-df-convert:hover {\n",
              "      background-color: #434B5C;\n",
              "      box-shadow: 0px 1px 3px 1px rgba(0, 0, 0, 0.15);\n",
              "      filter: drop-shadow(0px 1px 2px rgba(0, 0, 0, 0.3));\n",
              "      fill: #FFFFFF;\n",
              "    }\n",
              "  </style>\n",
              "\n",
              "      <script>\n",
              "        const buttonEl =\n",
              "          document.querySelector('#df-51d0dcd0-7a35-4e34-8e27-c771f4822c38 button.colab-df-convert');\n",
              "        buttonEl.style.display =\n",
              "          google.colab.kernel.accessAllowed ? 'block' : 'none';\n",
              "\n",
              "        async function convertToInteractive(key) {\n",
              "          const element = document.querySelector('#df-51d0dcd0-7a35-4e34-8e27-c771f4822c38');\n",
              "          const dataTable =\n",
              "            await google.colab.kernel.invokeFunction('convertToInteractive',\n",
              "                                                     [key], {});\n",
              "          if (!dataTable) return;\n",
              "\n",
              "          const docLinkHtml = 'Like what you see? Visit the ' +\n",
              "            '<a target=\"_blank\" href=https://colab.research.google.com/notebooks/data_table.ipynb>data table notebook</a>'\n",
              "            + ' to learn more about interactive tables.';\n",
              "          element.innerHTML = '';\n",
              "          dataTable['output_type'] = 'display_data';\n",
              "          await google.colab.output.renderOutput(dataTable, element);\n",
              "          const docLink = document.createElement('div');\n",
              "          docLink.innerHTML = docLinkHtml;\n",
              "          element.appendChild(docLink);\n",
              "        }\n",
              "      </script>\n",
              "    </div>\n",
              "  </div>\n"
            ]
          },
          "metadata": {},
          "execution_count": 70
        }
      ]
    },
    {
      "cell_type": "markdown",
      "source": [
        "# **Splitting datasets into Training,Testing and Validation Datasets**"
      ],
      "metadata": {
        "id": "zW6hKYr1lRbk"
      }
    },
    {
      "cell_type": "code",
      "source": [
        "from sklearn.model_selection import train_test_split"
      ],
      "metadata": {
        "id": "kpAV7zd9lZVr"
      },
      "execution_count": null,
      "outputs": []
    },
    {
      "cell_type": "code",
      "source": [
        "X=df4.drop(['Cancer'],axis='columns')"
      ],
      "metadata": {
        "id": "LauUkBmul_8L"
      },
      "execution_count": null,
      "outputs": []
    },
    {
      "cell_type": "code",
      "source": [
        "y=df4['Cancer']"
      ],
      "metadata": {
        "id": "ZxcDF8y7mrET"
      },
      "execution_count": null,
      "outputs": []
    },
    {
      "cell_type": "code",
      "source": [
        "X_train, X_test, y_train, y_test = train_test_split(X, y, test_size=0.5, random_state=42)"
      ],
      "metadata": {
        "id": "BM4Aku7Km18s"
      },
      "execution_count": null,
      "outputs": []
    },
    {
      "cell_type": "code",
      "source": [
        "X_train.shape"
      ],
      "metadata": {
        "colab": {
          "base_uri": "https://localhost:8080/"
        },
        "id": "kZgX0CNHl3Zd",
        "outputId": "1d8e4e5a-be6d-4cbe-c963-a0b25088051d"
      },
      "execution_count": null,
      "outputs": [
        {
          "output_type": "execute_result",
          "data": {
            "text/plain": [
              "(220, 9)"
            ]
          },
          "metadata": {},
          "execution_count": 84
        }
      ]
    },
    {
      "cell_type": "code",
      "source": [
        "y_train.shape"
      ],
      "metadata": {
        "colab": {
          "base_uri": "https://localhost:8080/"
        },
        "id": "gOYPfmRUl57E",
        "outputId": "bdb76570-65c1-4f4c-b322-10f446b0d644"
      },
      "execution_count": null,
      "outputs": [
        {
          "output_type": "execute_result",
          "data": {
            "text/plain": [
              "(220,)"
            ]
          },
          "metadata": {},
          "execution_count": 85
        }
      ]
    },
    {
      "cell_type": "markdown",
      "source": [
        "# **Using Random Forest Classifier for classification**"
      ],
      "metadata": {
        "id": "eYZ6PAwBQQU8"
      }
    },
    {
      "cell_type": "code",
      "source": [
        "from sklearn.ensemble import RandomForestClassifier"
      ],
      "metadata": {
        "id": "4m8ITkbpQVBF"
      },
      "execution_count": null,
      "outputs": []
    },
    {
      "cell_type": "code",
      "source": [
        "rf_model=RandomForestClassifier(n_estimators=50,criterion='entropy',max_depth=100,max_features='log2',bootstrap=True,random_state=42,min_samples_split=50)"
      ],
      "metadata": {
        "id": "rgnu0wXOLWoa"
      },
      "execution_count": null,
      "outputs": []
    },
    {
      "cell_type": "code",
      "source": [
        "rf_model.fit(X_train,y_train)"
      ],
      "metadata": {
        "colab": {
          "base_uri": "https://localhost:8080/",
          "height": 92
        },
        "id": "48bZLxi0k8yj",
        "outputId": "4cf48244-e0e9-4df1-cfcb-81b6cd12d3d1"
      },
      "execution_count": null,
      "outputs": [
        {
          "output_type": "execute_result",
          "data": {
            "text/plain": [
              "RandomForestClassifier(criterion='entropy', max_depth=100, max_features='log2',\n",
              "                       min_samples_split=50, n_estimators=50, random_state=42)"
            ],
            "text/html": [
              "<style>#sk-container-id-1 {color: black;background-color: white;}#sk-container-id-1 pre{padding: 0;}#sk-container-id-1 div.sk-toggleable {background-color: white;}#sk-container-id-1 label.sk-toggleable__label {cursor: pointer;display: block;width: 100%;margin-bottom: 0;padding: 0.3em;box-sizing: border-box;text-align: center;}#sk-container-id-1 label.sk-toggleable__label-arrow:before {content: \"▸\";float: left;margin-right: 0.25em;color: #696969;}#sk-container-id-1 label.sk-toggleable__label-arrow:hover:before {color: black;}#sk-container-id-1 div.sk-estimator:hover label.sk-toggleable__label-arrow:before {color: black;}#sk-container-id-1 div.sk-toggleable__content {max-height: 0;max-width: 0;overflow: hidden;text-align: left;background-color: #f0f8ff;}#sk-container-id-1 div.sk-toggleable__content pre {margin: 0.2em;color: black;border-radius: 0.25em;background-color: #f0f8ff;}#sk-container-id-1 input.sk-toggleable__control:checked~div.sk-toggleable__content {max-height: 200px;max-width: 100%;overflow: auto;}#sk-container-id-1 input.sk-toggleable__control:checked~label.sk-toggleable__label-arrow:before {content: \"▾\";}#sk-container-id-1 div.sk-estimator input.sk-toggleable__control:checked~label.sk-toggleable__label {background-color: #d4ebff;}#sk-container-id-1 div.sk-label input.sk-toggleable__control:checked~label.sk-toggleable__label {background-color: #d4ebff;}#sk-container-id-1 input.sk-hidden--visually {border: 0;clip: rect(1px 1px 1px 1px);clip: rect(1px, 1px, 1px, 1px);height: 1px;margin: -1px;overflow: hidden;padding: 0;position: absolute;width: 1px;}#sk-container-id-1 div.sk-estimator {font-family: monospace;background-color: #f0f8ff;border: 1px dotted black;border-radius: 0.25em;box-sizing: border-box;margin-bottom: 0.5em;}#sk-container-id-1 div.sk-estimator:hover {background-color: #d4ebff;}#sk-container-id-1 div.sk-parallel-item::after {content: \"\";width: 100%;border-bottom: 1px solid gray;flex-grow: 1;}#sk-container-id-1 div.sk-label:hover label.sk-toggleable__label {background-color: #d4ebff;}#sk-container-id-1 div.sk-serial::before {content: \"\";position: absolute;border-left: 1px solid gray;box-sizing: border-box;top: 0;bottom: 0;left: 50%;z-index: 0;}#sk-container-id-1 div.sk-serial {display: flex;flex-direction: column;align-items: center;background-color: white;padding-right: 0.2em;padding-left: 0.2em;position: relative;}#sk-container-id-1 div.sk-item {position: relative;z-index: 1;}#sk-container-id-1 div.sk-parallel {display: flex;align-items: stretch;justify-content: center;background-color: white;position: relative;}#sk-container-id-1 div.sk-item::before, #sk-container-id-1 div.sk-parallel-item::before {content: \"\";position: absolute;border-left: 1px solid gray;box-sizing: border-box;top: 0;bottom: 0;left: 50%;z-index: -1;}#sk-container-id-1 div.sk-parallel-item {display: flex;flex-direction: column;z-index: 1;position: relative;background-color: white;}#sk-container-id-1 div.sk-parallel-item:first-child::after {align-self: flex-end;width: 50%;}#sk-container-id-1 div.sk-parallel-item:last-child::after {align-self: flex-start;width: 50%;}#sk-container-id-1 div.sk-parallel-item:only-child::after {width: 0;}#sk-container-id-1 div.sk-dashed-wrapped {border: 1px dashed gray;margin: 0 0.4em 0.5em 0.4em;box-sizing: border-box;padding-bottom: 0.4em;background-color: white;}#sk-container-id-1 div.sk-label label {font-family: monospace;font-weight: bold;display: inline-block;line-height: 1.2em;}#sk-container-id-1 div.sk-label-container {text-align: center;}#sk-container-id-1 div.sk-container {/* jupyter's `normalize.less` sets `[hidden] { display: none; }` but bootstrap.min.css set `[hidden] { display: none !important; }` so we also need the `!important` here to be able to override the default hidden behavior on the sphinx rendered scikit-learn.org. See: https://github.com/scikit-learn/scikit-learn/issues/21755 */display: inline-block !important;position: relative;}#sk-container-id-1 div.sk-text-repr-fallback {display: none;}</style><div id=\"sk-container-id-1\" class=\"sk-top-container\"><div class=\"sk-text-repr-fallback\"><pre>RandomForestClassifier(criterion=&#x27;entropy&#x27;, max_depth=100, max_features=&#x27;log2&#x27;,\n",
              "                       min_samples_split=50, n_estimators=50, random_state=42)</pre><b>In a Jupyter environment, please rerun this cell to show the HTML representation or trust the notebook. <br />On GitHub, the HTML representation is unable to render, please try loading this page with nbviewer.org.</b></div><div class=\"sk-container\" hidden><div class=\"sk-item\"><div class=\"sk-estimator sk-toggleable\"><input class=\"sk-toggleable__control sk-hidden--visually\" id=\"sk-estimator-id-1\" type=\"checkbox\" checked><label for=\"sk-estimator-id-1\" class=\"sk-toggleable__label sk-toggleable__label-arrow\">RandomForestClassifier</label><div class=\"sk-toggleable__content\"><pre>RandomForestClassifier(criterion=&#x27;entropy&#x27;, max_depth=100, max_features=&#x27;log2&#x27;,\n",
              "                       min_samples_split=50, n_estimators=50, random_state=42)</pre></div></div></div></div></div>"
            ]
          },
          "metadata": {},
          "execution_count": 88
        }
      ]
    },
    {
      "cell_type": "code",
      "source": [
        "y_pred=rf_model.predict(X_test)"
      ],
      "metadata": {
        "id": "OtswW1QVullt"
      },
      "execution_count": null,
      "outputs": []
    },
    {
      "cell_type": "code",
      "source": [
        "accuracy=accuracy_score(y_pred,y_test)"
      ],
      "metadata": {
        "id": "6chFEclAuqTt"
      },
      "execution_count": null,
      "outputs": []
    },
    {
      "cell_type": "code",
      "source": [
        "accuracy"
      ],
      "metadata": {
        "colab": {
          "base_uri": "https://localhost:8080/"
        },
        "id": "YNrUoFMKu6Vr",
        "outputId": "1fe50f7e-c88b-433f-8250-d8919da17735"
      },
      "execution_count": null,
      "outputs": [
        {
          "output_type": "execute_result",
          "data": {
            "text/plain": [
              "0.990909090909091"
            ]
          },
          "metadata": {},
          "execution_count": 94
        }
      ]
    },
    {
      "cell_type": "markdown",
      "source": [
        "# **Creating a function for prediction**"
      ],
      "metadata": {
        "id": "4KOks68jpBar"
      }
    },
    {
      "cell_type": "code",
      "source": [
        "def predict_cancer(\tBleed,Cirrhosis,Size,HCC_TNM_Stage,ICC_TNM_Stage,Survival_fromMDM,Surveillance_effectiveness,\tPS,Prev_known_cirrhosis):\n",
        "   loc_index = np.where(X.columns==Bleed)[0][0]\n",
        "\n",
        "   x = np.zeros(len(X.columns))\n",
        "   x[0]= Bleed\n",
        "   x[1]= Cirrhosis\n",
        "   x[2]= Size\n",
        "   x[3]= HCC_TNM_Stage\n",
        "   x[4]= ICC_TNM_Stage\n",
        "   x[5]= Survival_fromMDM\n",
        "   x[6]= Surveillance_effectiveness\n",
        "   x[7]= PS\n",
        "   x[8]= Prev_known_cirrhosis\n",
        "   if loc_index >= 0:\n",
        "        x[loc_index] = 1\n",
        "\n",
        "   return rf_model.predict([x])[0]"
      ],
      "metadata": {
        "id": "20txRagLm8g0"
      },
      "execution_count": null,
      "outputs": []
    },
    {
      "cell_type": "code",
      "source": [
        "X.columns"
      ],
      "metadata": {
        "colab": {
          "base_uri": "https://localhost:8080/"
        },
        "id": "2q99wJB5wElu",
        "outputId": "72c22f5e-f5e3-4160-a612-26b815f38012"
      },
      "execution_count": null,
      "outputs": [
        {
          "output_type": "execute_result",
          "data": {
            "text/plain": [
              "Index(['Bleed', 'Cirrhosis', 'Size', 'HCC_TNM_Stage', 'ICC_TNM_Stage',\n",
              "       'Survival_fromMDM', 'Surveillance_effectiveness', 'PS',\n",
              "       'Prev_known_cirrhosis'],\n",
              "      dtype='object')"
            ]
          },
          "metadata": {},
          "execution_count": 95
        }
      ]
    },
    {
      "cell_type": "code",
      "source": [
        "import pickle\n",
        "with open('/content/covid-liver.pkl','wb')as f:\n",
        "  pickle.dump(rf_model,f)"
      ],
      "metadata": {
        "id": "-Ysdl_9Ywz5v"
      },
      "execution_count": null,
      "outputs": []
    },
    {
      "cell_type": "code",
      "source": [
        "import json\n",
        "columns={\n",
        "    'data_columns':[col.lower() for col in X.columns]\n",
        " }\n",
        "with open(\"columns.json\",\"w\")as f:\n",
        "   f.write(json.dumps(columns))"
      ],
      "metadata": {
        "id": "5YDyXJ87wZs2"
      },
      "execution_count": null,
      "outputs": []
    }
  ]
}